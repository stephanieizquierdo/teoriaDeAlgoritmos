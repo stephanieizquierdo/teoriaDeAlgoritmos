{
  "nbformat": 4,
  "nbformat_minor": 0,
  "metadata": {
    "colab": {
      "provenance": []
    },
    "kernelspec": {
      "name": "python3",
      "display_name": "Python 3"
    },
    "language_info": {
      "name": "python"
    }
  },
  "cells": [
    {
      "cell_type": "code",
      "source": [
        "!pip install pulp"
      ],
      "metadata": {
        "colab": {
          "base_uri": "https://localhost:8080/"
        },
        "id": "NBShMIyW4GHQ",
        "outputId": "2b2ec01f-18ba-4634-bdf0-b1b01a26dd4c"
      },
      "execution_count": 2,
      "outputs": [
        {
          "output_type": "stream",
          "name": "stdout",
          "text": [
            "Collecting pulp\n",
            "  Downloading PuLP-2.7.0-py3-none-any.whl (14.3 MB)\n",
            "\u001b[2K     \u001b[90m━━━━━━━━━━━━━━━━━━━━━━━━━━━━━━━━━━━━━━━━\u001b[0m \u001b[32m14.3/14.3 MB\u001b[0m \u001b[31m44.7 MB/s\u001b[0m eta \u001b[36m0:00:00\u001b[0m\n",
            "\u001b[?25hInstalling collected packages: pulp\n",
            "Successfully installed pulp-2.7.0\n"
          ]
        }
      ]
    },
    {
      "cell_type": "code",
      "source": [
        "import pandas as pd\n",
        "import numpy as np\n",
        "import math\n",
        "import matplotlib.pyplot as plt\n",
        "from matplotlib.patches import Patch\n",
        "from pandas import Timestamp\n",
        "from pulp import *"
      ],
      "metadata": {
        "id": "6N7eqUIHBLQV"
      },
      "execution_count": 31,
      "outputs": []
    },
    {
      "cell_type": "code",
      "source": [],
      "metadata": {
        "id": "lHPEdxvQ4FeO"
      },
      "execution_count": null,
      "outputs": []
    },
    {
      "cell_type": "code",
      "source": [
        "from google.colab import files\n",
        "upload = files.upload()"
      ],
      "metadata": {
        "id": "YWc0flrfDYPf",
        "colab": {
          "base_uri": "https://localhost:8080/",
          "height": 496
        },
        "outputId": "efc24d8d-77bc-43fa-c67a-56ca2cf43004"
      },
      "execution_count": 4,
      "outputs": [
        {
          "output_type": "display_data",
          "data": {
            "text/plain": [
              "<IPython.core.display.HTML object>"
            ],
            "text/html": [
              "\n",
              "     <input type=\"file\" id=\"files-d148b2c3-721d-4081-b5c7-a28ba0671969\" name=\"files[]\" multiple disabled\n",
              "        style=\"border:none\" />\n",
              "     <output id=\"result-d148b2c3-721d-4081-b5c7-a28ba0671969\">\n",
              "      Upload widget is only available when the cell has been executed in the\n",
              "      current browser session. Please rerun this cell to enable.\n",
              "      </output>\n",
              "      <script>// Copyright 2017 Google LLC\n",
              "//\n",
              "// Licensed under the Apache License, Version 2.0 (the \"License\");\n",
              "// you may not use this file except in compliance with the License.\n",
              "// You may obtain a copy of the License at\n",
              "//\n",
              "//      http://www.apache.org/licenses/LICENSE-2.0\n",
              "//\n",
              "// Unless required by applicable law or agreed to in writing, software\n",
              "// distributed under the License is distributed on an \"AS IS\" BASIS,\n",
              "// WITHOUT WARRANTIES OR CONDITIONS OF ANY KIND, either express or implied.\n",
              "// See the License for the specific language governing permissions and\n",
              "// limitations under the License.\n",
              "\n",
              "/**\n",
              " * @fileoverview Helpers for google.colab Python module.\n",
              " */\n",
              "(function(scope) {\n",
              "function span(text, styleAttributes = {}) {\n",
              "  const element = document.createElement('span');\n",
              "  element.textContent = text;\n",
              "  for (const key of Object.keys(styleAttributes)) {\n",
              "    element.style[key] = styleAttributes[key];\n",
              "  }\n",
              "  return element;\n",
              "}\n",
              "\n",
              "// Max number of bytes which will be uploaded at a time.\n",
              "const MAX_PAYLOAD_SIZE = 100 * 1024;\n",
              "\n",
              "function _uploadFiles(inputId, outputId) {\n",
              "  const steps = uploadFilesStep(inputId, outputId);\n",
              "  const outputElement = document.getElementById(outputId);\n",
              "  // Cache steps on the outputElement to make it available for the next call\n",
              "  // to uploadFilesContinue from Python.\n",
              "  outputElement.steps = steps;\n",
              "\n",
              "  return _uploadFilesContinue(outputId);\n",
              "}\n",
              "\n",
              "// This is roughly an async generator (not supported in the browser yet),\n",
              "// where there are multiple asynchronous steps and the Python side is going\n",
              "// to poll for completion of each step.\n",
              "// This uses a Promise to block the python side on completion of each step,\n",
              "// then passes the result of the previous step as the input to the next step.\n",
              "function _uploadFilesContinue(outputId) {\n",
              "  const outputElement = document.getElementById(outputId);\n",
              "  const steps = outputElement.steps;\n",
              "\n",
              "  const next = steps.next(outputElement.lastPromiseValue);\n",
              "  return Promise.resolve(next.value.promise).then((value) => {\n",
              "    // Cache the last promise value to make it available to the next\n",
              "    // step of the generator.\n",
              "    outputElement.lastPromiseValue = value;\n",
              "    return next.value.response;\n",
              "  });\n",
              "}\n",
              "\n",
              "/**\n",
              " * Generator function which is called between each async step of the upload\n",
              " * process.\n",
              " * @param {string} inputId Element ID of the input file picker element.\n",
              " * @param {string} outputId Element ID of the output display.\n",
              " * @return {!Iterable<!Object>} Iterable of next steps.\n",
              " */\n",
              "function* uploadFilesStep(inputId, outputId) {\n",
              "  const inputElement = document.getElementById(inputId);\n",
              "  inputElement.disabled = false;\n",
              "\n",
              "  const outputElement = document.getElementById(outputId);\n",
              "  outputElement.innerHTML = '';\n",
              "\n",
              "  const pickedPromise = new Promise((resolve) => {\n",
              "    inputElement.addEventListener('change', (e) => {\n",
              "      resolve(e.target.files);\n",
              "    });\n",
              "  });\n",
              "\n",
              "  const cancel = document.createElement('button');\n",
              "  inputElement.parentElement.appendChild(cancel);\n",
              "  cancel.textContent = 'Cancel upload';\n",
              "  const cancelPromise = new Promise((resolve) => {\n",
              "    cancel.onclick = () => {\n",
              "      resolve(null);\n",
              "    };\n",
              "  });\n",
              "\n",
              "  // Wait for the user to pick the files.\n",
              "  const files = yield {\n",
              "    promise: Promise.race([pickedPromise, cancelPromise]),\n",
              "    response: {\n",
              "      action: 'starting',\n",
              "    }\n",
              "  };\n",
              "\n",
              "  cancel.remove();\n",
              "\n",
              "  // Disable the input element since further picks are not allowed.\n",
              "  inputElement.disabled = true;\n",
              "\n",
              "  if (!files) {\n",
              "    return {\n",
              "      response: {\n",
              "        action: 'complete',\n",
              "      }\n",
              "    };\n",
              "  }\n",
              "\n",
              "  for (const file of files) {\n",
              "    const li = document.createElement('li');\n",
              "    li.append(span(file.name, {fontWeight: 'bold'}));\n",
              "    li.append(span(\n",
              "        `(${file.type || 'n/a'}) - ${file.size} bytes, ` +\n",
              "        `last modified: ${\n",
              "            file.lastModifiedDate ? file.lastModifiedDate.toLocaleDateString() :\n",
              "                                    'n/a'} - `));\n",
              "    const percent = span('0% done');\n",
              "    li.appendChild(percent);\n",
              "\n",
              "    outputElement.appendChild(li);\n",
              "\n",
              "    const fileDataPromise = new Promise((resolve) => {\n",
              "      const reader = new FileReader();\n",
              "      reader.onload = (e) => {\n",
              "        resolve(e.target.result);\n",
              "      };\n",
              "      reader.readAsArrayBuffer(file);\n",
              "    });\n",
              "    // Wait for the data to be ready.\n",
              "    let fileData = yield {\n",
              "      promise: fileDataPromise,\n",
              "      response: {\n",
              "        action: 'continue',\n",
              "      }\n",
              "    };\n",
              "\n",
              "    // Use a chunked sending to avoid message size limits. See b/62115660.\n",
              "    let position = 0;\n",
              "    do {\n",
              "      const length = Math.min(fileData.byteLength - position, MAX_PAYLOAD_SIZE);\n",
              "      const chunk = new Uint8Array(fileData, position, length);\n",
              "      position += length;\n",
              "\n",
              "      const base64 = btoa(String.fromCharCode.apply(null, chunk));\n",
              "      yield {\n",
              "        response: {\n",
              "          action: 'append',\n",
              "          file: file.name,\n",
              "          data: base64,\n",
              "        },\n",
              "      };\n",
              "\n",
              "      let percentDone = fileData.byteLength === 0 ?\n",
              "          100 :\n",
              "          Math.round((position / fileData.byteLength) * 100);\n",
              "      percent.textContent = `${percentDone}% done`;\n",
              "\n",
              "    } while (position < fileData.byteLength);\n",
              "  }\n",
              "\n",
              "  // All done.\n",
              "  yield {\n",
              "    response: {\n",
              "      action: 'complete',\n",
              "    }\n",
              "  };\n",
              "}\n",
              "\n",
              "scope.google = scope.google || {};\n",
              "scope.google.colab = scope.google.colab || {};\n",
              "scope.google.colab._files = {\n",
              "  _uploadFiles,\n",
              "  _uploadFilesContinue,\n",
              "};\n",
              "})(self);\n",
              "</script> "
            ]
          },
          "metadata": {}
        },
        {
          "output_type": "stream",
          "name": "stdout",
          "text": [
            "Saving 5.txt to 5.txt\n",
            "Saving 7.txt to 7.txt\n",
            "Saving 10_pocos.txt to 10_pocos.txt\n",
            "Saving 10_todos.txt to 10_todos.txt\n",
            "Saving 10_varios.txt to 10_varios.txt\n",
            "Saving 15.txt to 15.txt\n",
            "Saving 20.txt to 20.txt\n",
            "Saving 50.txt to 50.txt\n",
            "Saving 75.txt to 75.txt\n",
            "Saving 100.txt to 100.txt\n",
            "Saving 200.txt to 200.txt\n",
            "Saving FormatoArchivos.txt to FormatoArchivos.txt\n",
            "Saving Resultados Esperados.txt to Resultados Esperados.txt\n"
          ]
        }
      ]
    },
    {
      "cell_type": "markdown",
      "source": [
        "### Read File"
      ],
      "metadata": {
        "id": "6p9NnxzY1G_3"
      }
    },
    {
      "cell_type": "code",
      "source": [
        "def read_file(path):\n",
        "    jugadores = []\n",
        "    with open(path, 'r') as file:\n",
        "        for linea in file:\n",
        "            jug_x_periodista = linea.strip().split(',')\n",
        "\n",
        "            jugadores.append(jug_x_periodista)\n",
        "\n",
        "    return jugadores"
      ],
      "metadata": {
        "id": "SD195-u_8Bxn"
      },
      "execution_count": 5,
      "outputs": []
    },
    {
      "cell_type": "markdown",
      "source": [
        "# Algoritmos"
      ],
      "metadata": {
        "id": "uysRNJtC1M5f"
      }
    },
    {
      "cell_type": "markdown",
      "source": [
        "## Greedy"
      ],
      "metadata": {
        "id": "4ZpEkvNL1Q6j"
      }
    },
    {
      "cell_type": "code",
      "source": [
        "def greedy_jugadores(jugadores_matrix):\n",
        "    jugadores = jugadores_matrix.copy()\n",
        "    jugadores.sort(key=lambda x: len(x))\n",
        "\n",
        "    solucion = set()\n",
        "\n",
        "    for propuestas in jugadores:\n",
        "        optimo_local = propuestas[0] # primer jugador que no está en el set\n",
        "        for jugador in propuestas:\n",
        "            if jugador in solucion:\n",
        "                optimo_local = jugador\n",
        "                break\n",
        "        solucion.add(optimo_local)\n",
        "\n",
        "    return solucion"
      ],
      "metadata": {
        "id": "Iawhaxrvx7Aa"
      },
      "execution_count": 6,
      "outputs": []
    },
    {
      "cell_type": "markdown",
      "source": [
        "## Backtracking"
      ],
      "metadata": {
        "id": "kwVJc3cx1URp"
      }
    },
    {
      "cell_type": "code",
      "source": [
        "def _backtracking_jugadores(jugadores_matriz, periodista, solucion_optima, solucion_actual):\n",
        "    if periodista == len(jugadores_matriz):\n",
        "        if len(solucion_optima) == 0 or len(solucion_actual) <= len(solucion_optima):\n",
        "            solucion_optima = solucion_actual.copy()\n",
        "        return solucion_optima\n",
        "\n",
        "    if len(solucion_optima) != 0 and len(solucion_actual) >= len(solucion_optima):\n",
        "        return solucion_optima\n",
        "\n",
        "    for jugador in jugadores_matriz[periodista]:\n",
        "        jugadores_temporales = solucion_actual.copy()\n",
        "        jugadores_temporales.add(jugador)\n",
        "\n",
        "        solucion_optima = _backtracking_jugadores(jugadores_matriz, periodista + 1, solucion_optima, jugadores_temporales)\n",
        "\n",
        "    return solucion_optima\n",
        "\n",
        "def backtracking_jugadores(jugadores):\n",
        "  return _backtracking_jugadores(jugadores, 0, set(), set())"
      ],
      "metadata": {
        "id": "6JKplt7vx8sF"
      },
      "execution_count": 13,
      "outputs": []
    },
    {
      "cell_type": "markdown",
      "source": [
        "## Programación Lineal"
      ],
      "metadata": {
        "id": "NpiwQu8m1WJL"
      }
    },
    {
      "cell_type": "code",
      "source": [
        "def programacion_lineal_jugadores(jugadores):\n",
        "    jugadores_segun_preferencias = jugadores\n",
        "    todos_los_jugadores = set()\n",
        "    for preferencia in jugadores_segun_preferencias:\n",
        "        for jugador in preferencia:\n",
        "            todos_los_jugadores.add(jugador)\n",
        "\n",
        "    problema = LpProblem(\"jugadores_optimos\", LpMinimize)\n",
        "    jugadores_vars = {jugador: LpVariable(f\"x_{jugador}\", 0, 1, LpBinary) for jugador in todos_los_jugadores}\n",
        "    problema += lpSum(jugadores_vars[jugador] for jugador in todos_los_jugadores)\n",
        "    for preferencia in jugadores_segun_preferencias:\n",
        "        problema += lpSum(jugadores_vars[jugador] * (jugador in preferencia) for jugador in todos_los_jugadores) >= 1\n",
        "    problema.solve()"
      ],
      "metadata": {
        "id": "ijkNUsPO0OLa"
      },
      "execution_count": 32,
      "outputs": []
    },
    {
      "cell_type": "markdown",
      "source": [
        "# Generación de sets"
      ],
      "metadata": {
        "id": "AzChdyArRMp2"
      }
    },
    {
      "cell_type": "code",
      "source": [
        "rng = np.random.default_rng(seed=42)\n",
        "def generate_random(n, min_players=2, max_players=8, lower_limit=1, upper_limit=50):\n",
        "  return [rng.integers(lower_limit, upper_limit, size=rng.integers(2, max_players)) for _ in range(n)]"
      ],
      "metadata": {
        "id": "6jzRSNntKZq4"
      },
      "execution_count": 10,
      "outputs": []
    },
    {
      "cell_type": "code",
      "source": [
        "generate_random(10)"
      ],
      "metadata": {
        "colab": {
          "base_uri": "https://localhost:8080/"
        },
        "id": "35RRS6NSUX9i",
        "outputId": "ced6be87-4918-4764-dddd-e0738848e8f2"
      },
      "execution_count": 11,
      "outputs": [
        {
          "output_type": "execute_result",
          "data": {
            "text/plain": [
              "[array([38, 33]),\n",
              " array([22, 43,  5, 35]),\n",
              " array([ 5, 26, 48]),\n",
              " array([38, 36, 39, 26,  7, 42]),\n",
              " array([25, 19,  9, 46]),\n",
              " array([32, 20, 41, 27, 22, 23]),\n",
              " array([ 5, 28, 44]),\n",
              " array([43, 41]),\n",
              " array([31,  9, 38]),\n",
              " array([18,  4, 48, 22, 44, 34])]"
            ]
          },
          "metadata": {},
          "execution_count": 11
        }
      ]
    },
    {
      "cell_type": "markdown",
      "source": [
        "## Pruebas de tiempos"
      ],
      "metadata": {
        "id": "4s2elzBMRXaK"
      }
    },
    {
      "cell_type": "code",
      "source": [
        "import time"
      ],
      "metadata": {
        "id": "3M-vt8Z_RYmI"
      },
      "execution_count": 34,
      "outputs": []
    },
    {
      "cell_type": "code",
      "source": [
        "def timeit_scaloni(algoritmo, jugadores):\n",
        "  start_time = time.time()\n",
        "  _ = algoritmo(jugadores)\n",
        "  end_time = time.time()\n",
        "  return end_time - start_time"
      ],
      "metadata": {
        "id": "dm2YxSp8RjaZ"
      },
      "execution_count": 35,
      "outputs": []
    },
    {
      "cell_type": "code",
      "source": [
        " def get_plot_times(algoritmo, inicio_rango=5, fin_rango=500, incremento=25, modifier=1000):\n",
        "  data_n = []\n",
        "  data_time = []\n",
        "\n",
        "  # reinicio el generator para obtener los mismos valores en cada corrida por algoritmo\n",
        "  rng = np.random.default_rng(seed=42)\n",
        "  def generate_random(n, min_players=2, max_players=8, lower_limit=1, upper_limit=50):\n",
        "    return [rng.integers(lower_limit, upper_limit, size=rng.integers(2, max_players)) for _ in range(n)]\n",
        "\n",
        "  for n in range(inicio_rango, fin_rango + 1, incremento):\n",
        "    # Genera tus datos o carga datos de alguna fuente\n",
        "    jugadores = generate_random(n)  # Ajusta esto según tu caso\n",
        "\n",
        "    timeit = timeit_scaloni(algoritmo, jugadores)\n",
        "\n",
        "    data_n.append(n)\n",
        "    data_time.append(timeit * modifier)\n",
        "\n",
        "  return data_n, data_time"
      ],
      "metadata": {
        "id": "O5RM3IaiRb6L"
      },
      "execution_count": 62,
      "outputs": []
    },
    {
      "cell_type": "code",
      "source": [
        "def plot_scaloni(data_n, data_time, algoritmo_str):\n",
        "  window_size = 5\n",
        "\n",
        "  x = data_n\n",
        "  y = data_time # [x/1000 for x in data_time]\n",
        "\n",
        "  # y_suavizado = np.convolve(y, np.ones(window_size)/window_size, mode='same')\n",
        "\n",
        "  plt.plot(x, y, label=f'Mediciones {algoritmo_str}', linewidth=2)\n",
        "  # plt.plot(x, y_suavizado, label='Mediciones suavizadas', linewidth=2)\n",
        "  # plt.plot(x, [n*n/60 for n in x], label='n2', linewidth=3)\n",
        "  plt.title(f'Mediciones {algoritmo_str}')\n",
        "  plt.xlabel('Tamaño de datos')\n",
        "  plt.ylabel('Tiempo de ejecución [ms]')\n",
        "  plt.grid(True)\n",
        "  # plt.legend()\n",
        "  plt.show()"
      ],
      "metadata": {
        "id": "-XE1qtqLRgQD"
      },
      "execution_count": 65,
      "outputs": []
    },
    {
      "cell_type": "code",
      "source": [
        "#ALL_ALGORITHMS = [greedy_jugadores, backtracking_jugadores, programacion_lineal_jugadores]\n",
        "ALL_ALGORITHMS = []\n",
        "ALL_ALGORITHMS.append((greedy_jugadores, 'Greedy'))\n",
        "# ALL_ALGORITHMS.append((backtracking_jugadores, 'Backtracking'))\n",
        "ALL_ALGORITHMS.append((programacion_lineal_jugadores, 'Programación Lineal'))\n",
        "\n",
        "for algoritmo, name in ALL_ALGORITHMS:\n",
        "  x, y = get_plot_times(algoritmo)\n",
        "  plot_scaloni(x, y, name)"
      ],
      "metadata": {
        "colab": {
          "base_uri": "https://localhost:8080/",
          "height": 927
        },
        "id": "OnwB9EVB_WwV",
        "outputId": "02074502-f58c-48de-fc17-98912911c97a"
      },
      "execution_count": 66,
      "outputs": [
        {
          "output_type": "display_data",
          "data": {
            "text/plain": [
              "<Figure size 640x480 with 1 Axes>"
            ],
            "image/png": "[encoded data removed]"
          },
          "metadata": {}
        },
        {
          "output_type": "display_data",
          "data": {
            "text/plain": [
              "<Figure size 640x480 with 1 Axes>"
            ],
            "image/png": "[encoded data removed]"
          },
          "metadata": {}
        }
      ]
    },
    {
      "cell_type": "code",
      "source": [],
      "metadata": {
        "id": "vKRSf71HXGhf"
      },
      "execution_count": null,
      "outputs": []
    }
  ]
}