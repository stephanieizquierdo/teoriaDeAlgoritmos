{
  "nbformat": 4,
  "nbformat_minor": 0,
  "metadata": {
    "colab": {
      "provenance": []
    },
    "kernelspec": {
      "name": "python3",
      "display_name": "Python 3"
    },
    "language_info": {
      "name": "python"
    }
  },
  "cells": [
    {
      "cell_type": "code",
      "source": [
        "import pandas as pd\n",
        "import numpy as np\n",
        "import matplotlib.pyplot as plt\n",
        "from matplotlib.patches import Patch\n",
        "from pandas import Timestamp"
      ],
      "metadata": {
        "id": "6N7eqUIHBLQV"
      },
      "execution_count": 18,
      "outputs": []
    },
    {
      "cell_type": "code",
      "source": [],
      "metadata": {
        "id": "YWc0flrfDYPf"
      },
      "execution_count": 18,
      "outputs": []
    },
    {
      "cell_type": "code",
      "source": [
        "ENTRENO = 'Entreno'\n",
        "DESCANSO = 'Descanso'\n",
        "\n",
        "def read_file(path):\n",
        "  file = open(path, mode = 'r', encoding = 'utf-8-sig')\n",
        "  leido = file.read().splitlines()\n",
        "\n",
        "  cant_dias = leido[0]\n",
        "\n",
        "  e_i=[]\n",
        "  s_i=[]\n",
        "\n",
        "  rango_cant_dias = range(int(cant_dias))\n",
        "  for dia in rango_cant_dias:\n",
        "    e_i.append(int(leido[dia+ 1]))\n",
        "    s_i.append(int(leido[int(cant_dias)+dia+1]))\n",
        "\n",
        "  file.close()\n",
        "\n",
        "  return e_i, s_i, cant_dias\n",
        "\n",
        "\n",
        "def scaloni_ganancia(e_i, s_i):\n",
        "  cant_dias = len(e_i)\n",
        "  matriz = np.zeros((cant_dias, cant_dias), dtype=int)\n",
        "\n",
        "  for columna in range(len(matriz[0])):\n",
        "    for fila in range(len(matriz)):\n",
        "      if fila == 0:\n",
        "        if columna==0 or columna==1:\n",
        "          matriz[fila][columna] = min(s_i[fila], e_i[columna])\n",
        "        else:\n",
        "          matriz[fila][columna] = min(s_i[fila], e_i[columna]) + max(matriz[:, columna-2])\n",
        "      elif fila > columna: continue\n",
        "      else:\n",
        "          matriz[fila][columna] = min(s_i[fila], e_i[columna]) + matriz[fila-1, columna-1]\n",
        "  return matriz\n",
        "\n",
        "def scaloni_get_max_ganancia(opt):\n",
        "  return max(opt[:, -1])\n",
        "\n",
        "\n",
        "def scaloni_plan(opt):\n",
        "  cant_dias = opt.shape[1]\n",
        "  idx_fila, idx_col = (np.argmax(opt[:, -1]), cant_dias - 1)\n",
        "  plan = [ENTRENO]\n",
        "\n",
        "  while len(plan) != cant_dias:\n",
        "    if idx_fila != 0:\n",
        "      idx_fila -= 1\n",
        "      idx_col -= 1\n",
        "      plan.append(ENTRENO)\n",
        "    else:\n",
        "      idx_fila = np.argmax(opt[:, idx_col-1]) # check if idx_col == 0\n",
        "      idx_col -= 1\n",
        "      plan.append(DESCANSO)\n",
        "\n",
        "  return plan[::-1]"
      ],
      "metadata": {
        "id": "SD195-u_8Bxn"
      },
      "execution_count": 19,
      "outputs": []
    },
    {
      "cell_type": "markdown",
      "source": [
        "## Generación de sets"
      ],
      "metadata": {
        "id": "AzChdyArRMp2"
      }
    },
    {
      "cell_type": "code",
      "source": [
        "rng = np.random.default_rng(seed=42)\n",
        "def generate_random(n, lower_limit=1, upper_limit=100):\n",
        "  e_i = rng.integers(lower_limit, upper_limit, size=n)\n",
        "  s_i = rng.integers(lower_limit, upper_limit, size=n)\n",
        "  s_i = np.sort(s_i)[::-1]\n",
        "  return e_i, s_i"
      ],
      "metadata": {
        "id": "6jzRSNntKZq4"
      },
      "execution_count": 31,
      "outputs": []
    },
    {
      "cell_type": "code",
      "source": [
        "generate_random(10)"
      ],
      "metadata": {
        "colab": {
          "base_uri": "https://localhost:8080/"
        },
        "id": "35RRS6NSUX9i",
        "outputId": "55369c9e-32e4-4640-e870-244e0388e018"
      },
      "execution_count": 32,
      "outputs": [
        {
          "output_type": "execute_result",
          "data": {
            "text/plain": [
              "(array([ 9, 77, 65, 44, 43, 86,  9, 70, 20, 10]),\n",
              " array([97, 84, 78, 76, 73, 72, 53, 51, 45, 13]))"
            ]
          },
          "metadata": {},
          "execution_count": 32
        }
      ]
    },
    {
      "cell_type": "markdown",
      "source": [
        "## Pruebas de tiempos"
      ],
      "metadata": {
        "id": "4s2elzBMRXaK"
      }
    },
    {
      "cell_type": "code",
      "source": [
        "import time"
      ],
      "metadata": {
        "id": "3M-vt8Z_RYmI"
      },
      "execution_count": 33,
      "outputs": []
    },
    {
      "cell_type": "code",
      "source": [
        "def timeit_scaloni(e_i, s_i):\n",
        "  start_time = time.time()\n",
        "  ganancia = scaloni_ganancia(e_i, s_i)\n",
        "  scaloni_plan(ganancia)\n",
        "  end_time = time.time()\n",
        "  return end_time - start_time"
      ],
      "metadata": {
        "id": "dm2YxSp8RjaZ"
      },
      "execution_count": 34,
      "outputs": []
    },
    {
      "cell_type": "code",
      "source": [
        "data_n = []\n",
        "data_time = []\n",
        "\n",
        "inicio_rango = 10\n",
        "fin_rango = 15000\n",
        "incremento = 1000\n",
        "\n",
        "for n in range(inicio_rango, fin_rango + 1, incremento):\n",
        "    # Genera tus datos o carga datos de alguna fuente\n",
        "    ei, si = generate_random(n)  # Ajusta esto según tu caso\n",
        "\n",
        "    timeit = timeit_scaloni(ei, si)\n",
        "\n",
        "    data_n.append(n)\n",
        "    data_time.append(timeit*1000)"
      ],
      "metadata": {
        "id": "O5RM3IaiRb6L"
      },
      "execution_count": 35,
      "outputs": []
    },
    {
      "cell_type": "code",
      "source": [
        "import math\n",
        "window_size = 500\n",
        "\n",
        "x = data_n\n",
        "y = [x / 1000 for x in data_time]\n",
        "\n",
        "#y_suavizado = np.convolve(y, np.ones(window_size)/window_size, mode='same')\n",
        "\n",
        "plt.plot(x, y, label='Mediciones sin suavizar', linewidth=2)\n",
        "#plt.plot(x, y_suavizado, label='Mediciones suavizadas', linewidth=2)\n",
        "#plt.plot(x, [n*n/1000 for n in x], label='n2', linewidth=3)\n",
        "plt.title('Tiempo de ejecución vs. Tamaño de datos')\n",
        "plt.xlabel('Tamaño de datos')\n",
        "plt.ylabel('Tiempo de ejecución [s]')\n",
        "plt.grid(True)\n",
        "#plt.legend()\n",
        "plt.show()"
      ],
      "metadata": {
        "id": "-XE1qtqLRgQD",
        "colab": {
          "base_uri": "https://localhost:8080/",
          "height": 472
        },
        "outputId": "c329b76f-0a48-42ab-c066-02ff9061938b"
      },
      "execution_count": 36,
      "outputs": [
        {
          "output_type": "display_data",
          "data": {
            "text/plain": [
              "<Figure size 640x480 with 1 Axes>"
            ],
            "image/png": "[encoded data removed]"
          },
          "metadata": {}
        }
      ]
    },
    {
      "cell_type": "code",
      "source": [],
      "metadata": {
        "id": "vKRSf71HXGhf"
      },
      "execution_count": null,
      "outputs": []
    }
  ]
}