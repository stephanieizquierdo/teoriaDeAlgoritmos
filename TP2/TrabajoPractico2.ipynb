{
  "nbformat": 4,
  "nbformat_minor": 0,
  "metadata": {
    "colab": {
      "provenance": []
    },
    "kernelspec": {
      "name": "python3",
      "display_name": "Python 3"
    },
    "language_info": {
      "name": "python"
    }
  },
  "cells": [
    {
      "cell_type": "markdown",
      "source": [
        "Teoría de Algoritmos - Trabajo Práctico 1\n",
        "\n"
      ],
      "metadata": {
        "id": "FBHmcSizwxhK"
      }
    },
    {
      "cell_type": "markdown",
      "source": [
        " El entrenamiento del día  i demanda una cantidad de esfuerzo  ei , y podemos decir que la ganancia que nos da dicho entrenamiento es igual al esfuerzo. El entrenamiento que corresponde al día i (así como su esfuerzo y ganancia) son inamovibles: el Chiqui Tapia alquiló las herramientas específicas para cada día, y la AFA está muy ocupada organizando el torneo de 2^30 equipos del año que viene para andar moviendo cosas. Si la cantidad de energía que se tiene para un día i es j < ei, entonces la ganancia que se obtiene en ese caso es justamente j. (si se tiene más energía que ei, no es que se pueda usar más para tener más ganancia).\n",
        "\n",
        " La cantidad de energía que tienen disponible para cada día va disminuyendo a medida que pasan los entrenamientos\n",
        "\n",
        " el primer día luego de dicho descanso los jugadores tienen energía s1. El segundo día luego del descanso tienen energía s2, etc.\n",
        "s1>s2>...>sn\n",
        "\n",
        " Scaloni puede decidir dejarlos descansar un día, haciendo que la energía “se renueve”\n",
        "\n",
        "\n",
        "**OBJETIVO: definir los días que deba entrenarse y los días que convenga descansar de tal forma de tener la mayor ganancia posible**"
      ],
      "metadata": {
        "id": "oH6JMXOrxIH_"
      }
    },
    {
      "cell_type": "code",
      "source": [
        "import numpy as np"
      ],
      "metadata": {
        "id": "5PK1hxT895Ng"
      },
      "execution_count": 25,
      "outputs": []
    },
    {
      "cell_type": "code",
      "source": [
        "from google.colab import files\n",
        "upload = files.upload()"
      ],
      "metadata": {
        "colab": {
          "base_uri": "https://localhost:8080/",
          "height": 351
        },
        "id": "2CcWVfGV9580",
        "outputId": "96f7b88f-de97-4a1e-fd1e-fa9b4dcc57c5"
      },
      "execution_count": 26,
      "outputs": [
        {
          "output_type": "display_data",
          "data": {
            "text/plain": [
              "<IPython.core.display.HTML object>"
            ],
            "text/html": [
              "\n",
              "     <input type=\"file\" id=\"files-0a1f2396-4f53-4efd-af0c-f913ff7000f8\" name=\"files[]\" multiple disabled\n",
              "        style=\"border:none\" />\n",
              "     <output id=\"result-0a1f2396-4f53-4efd-af0c-f913ff7000f8\">\n",
              "      Upload widget is only available when the cell has been executed in the\n",
              "      current browser session. Please rerun this cell to enable.\n",
              "      </output>\n",
              "      <script>// Copyright 2017 Google LLC\n",
              "//\n",
              "// Licensed under the Apache License, Version 2.0 (the \"License\");\n",
              "// you may not use this file except in compliance with the License.\n",
              "// You may obtain a copy of the License at\n",
              "//\n",
              "//      http://www.apache.org/licenses/LICENSE-2.0\n",
              "//\n",
              "// Unless required by applicable law or agreed to in writing, software\n",
              "// distributed under the License is distributed on an \"AS IS\" BASIS,\n",
              "// WITHOUT WARRANTIES OR CONDITIONS OF ANY KIND, either express or implied.\n",
              "// See the License for the specific language governing permissions and\n",
              "// limitations under the License.\n",
              "\n",
              "/**\n",
              " * @fileoverview Helpers for google.colab Python module.\n",
              " */\n",
              "(function(scope) {\n",
              "function span(text, styleAttributes = {}) {\n",
              "  const element = document.createElement('span');\n",
              "  element.textContent = text;\n",
              "  for (const key of Object.keys(styleAttributes)) {\n",
              "    element.style[key] = styleAttributes[key];\n",
              "  }\n",
              "  return element;\n",
              "}\n",
              "\n",
              "// Max number of bytes which will be uploaded at a time.\n",
              "const MAX_PAYLOAD_SIZE = 100 * 1024;\n",
              "\n",
              "function _uploadFiles(inputId, outputId) {\n",
              "  const steps = uploadFilesStep(inputId, outputId);\n",
              "  const outputElement = document.getElementById(outputId);\n",
              "  // Cache steps on the outputElement to make it available for the next call\n",
              "  // to uploadFilesContinue from Python.\n",
              "  outputElement.steps = steps;\n",
              "\n",
              "  return _uploadFilesContinue(outputId);\n",
              "}\n",
              "\n",
              "// This is roughly an async generator (not supported in the browser yet),\n",
              "// where there are multiple asynchronous steps and the Python side is going\n",
              "// to poll for completion of each step.\n",
              "// This uses a Promise to block the python side on completion of each step,\n",
              "// then passes the result of the previous step as the input to the next step.\n",
              "function _uploadFilesContinue(outputId) {\n",
              "  const outputElement = document.getElementById(outputId);\n",
              "  const steps = outputElement.steps;\n",
              "\n",
              "  const next = steps.next(outputElement.lastPromiseValue);\n",
              "  return Promise.resolve(next.value.promise).then((value) => {\n",
              "    // Cache the last promise value to make it available to the next\n",
              "    // step of the generator.\n",
              "    outputElement.lastPromiseValue = value;\n",
              "    return next.value.response;\n",
              "  });\n",
              "}\n",
              "\n",
              "/**\n",
              " * Generator function which is called between each async step of the upload\n",
              " * process.\n",
              " * @param {string} inputId Element ID of the input file picker element.\n",
              " * @param {string} outputId Element ID of the output display.\n",
              " * @return {!Iterable<!Object>} Iterable of next steps.\n",
              " */\n",
              "function* uploadFilesStep(inputId, outputId) {\n",
              "  const inputElement = document.getElementById(inputId);\n",
              "  inputElement.disabled = false;\n",
              "\n",
              "  const outputElement = document.getElementById(outputId);\n",
              "  outputElement.innerHTML = '';\n",
              "\n",
              "  const pickedPromise = new Promise((resolve) => {\n",
              "    inputElement.addEventListener('change', (e) => {\n",
              "      resolve(e.target.files);\n",
              "    });\n",
              "  });\n",
              "\n",
              "  const cancel = document.createElement('button');\n",
              "  inputElement.parentElement.appendChild(cancel);\n",
              "  cancel.textContent = 'Cancel upload';\n",
              "  const cancelPromise = new Promise((resolve) => {\n",
              "    cancel.onclick = () => {\n",
              "      resolve(null);\n",
              "    };\n",
              "  });\n",
              "\n",
              "  // Wait for the user to pick the files.\n",
              "  const files = yield {\n",
              "    promise: Promise.race([pickedPromise, cancelPromise]),\n",
              "    response: {\n",
              "      action: 'starting',\n",
              "    }\n",
              "  };\n",
              "\n",
              "  cancel.remove();\n",
              "\n",
              "  // Disable the input element since further picks are not allowed.\n",
              "  inputElement.disabled = true;\n",
              "\n",
              "  if (!files) {\n",
              "    return {\n",
              "      response: {\n",
              "        action: 'complete',\n",
              "      }\n",
              "    };\n",
              "  }\n",
              "\n",
              "  for (const file of files) {\n",
              "    const li = document.createElement('li');\n",
              "    li.append(span(file.name, {fontWeight: 'bold'}));\n",
              "    li.append(span(\n",
              "        `(${file.type || 'n/a'}) - ${file.size} bytes, ` +\n",
              "        `last modified: ${\n",
              "            file.lastModifiedDate ? file.lastModifiedDate.toLocaleDateString() :\n",
              "                                    'n/a'} - `));\n",
              "    const percent = span('0% done');\n",
              "    li.appendChild(percent);\n",
              "\n",
              "    outputElement.appendChild(li);\n",
              "\n",
              "    const fileDataPromise = new Promise((resolve) => {\n",
              "      const reader = new FileReader();\n",
              "      reader.onload = (e) => {\n",
              "        resolve(e.target.result);\n",
              "      };\n",
              "      reader.readAsArrayBuffer(file);\n",
              "    });\n",
              "    // Wait for the data to be ready.\n",
              "    let fileData = yield {\n",
              "      promise: fileDataPromise,\n",
              "      response: {\n",
              "        action: 'continue',\n",
              "      }\n",
              "    };\n",
              "\n",
              "    // Use a chunked sending to avoid message size limits. See b/62115660.\n",
              "    let position = 0;\n",
              "    do {\n",
              "      const length = Math.min(fileData.byteLength - position, MAX_PAYLOAD_SIZE);\n",
              "      const chunk = new Uint8Array(fileData, position, length);\n",
              "      position += length;\n",
              "\n",
              "      const base64 = btoa(String.fromCharCode.apply(null, chunk));\n",
              "      yield {\n",
              "        response: {\n",
              "          action: 'append',\n",
              "          file: file.name,\n",
              "          data: base64,\n",
              "        },\n",
              "      };\n",
              "\n",
              "      let percentDone = fileData.byteLength === 0 ?\n",
              "          100 :\n",
              "          Math.round((position / fileData.byteLength) * 100);\n",
              "      percent.textContent = `${percentDone}% done`;\n",
              "\n",
              "    } while (position < fileData.byteLength);\n",
              "  }\n",
              "\n",
              "  // All done.\n",
              "  yield {\n",
              "    response: {\n",
              "      action: 'complete',\n",
              "    }\n",
              "  };\n",
              "}\n",
              "\n",
              "scope.google = scope.google || {};\n",
              "scope.google.colab = scope.google.colab || {};\n",
              "scope.google.colab._files = {\n",
              "  _uploadFiles,\n",
              "  _uploadFilesContinue,\n",
              "};\n",
              "})(self);\n",
              "</script> "
            ]
          },
          "metadata": {}
        },
        {
          "output_type": "stream",
          "name": "stdout",
          "text": [
            "Saving 3.txt to 3 (1).txt\n",
            "Saving 10.txt to 10 (1).txt\n",
            "Saving 10_bis.txt to 10_bis (1).txt\n",
            "Saving 50.txt to 50 (1).txt\n",
            "Saving 50_bis.txt to 50_bis (1).txt\n",
            "Saving 100.txt to 100 (1).txt\n",
            "Saving 500.txt to 500 (1).txt\n",
            "Saving 1000.txt to 1000 (1).txt\n",
            "Saving 5000.txt to 5000 (1).txt\n"
          ]
        }
      ]
    },
    {
      "cell_type": "code",
      "source": [
        "def read_file(path):\n",
        "  file = open(path, mode = 'r', encoding = 'utf-8-sig')\n",
        "  leido = file.read().splitlines()\n",
        "\n",
        "  cant_dias = leido[0]\n",
        "\n",
        "  e_i=[]\n",
        "  s_i=[]\n",
        "\n",
        "  rango_cant_dias = range(int(cant_dias))\n",
        "  for dia in rango_cant_dias:\n",
        "    e_i.append(int(leido[dia+ 1]))\n",
        "    s_i.append(int(leido[int(cant_dias)+dia+1]))\n",
        "  return e_i, s_i, cant_dias"
      ],
      "metadata": {
        "id": "CBfET7_g9za1"
      },
      "execution_count": 27,
      "outputs": []
    },
    {
      "cell_type": "code",
      "source": [
        "e_i, s_i, cant_dias = read_file('3.txt')\n",
        "print(e_i)\n",
        "print(s_i)"
      ],
      "metadata": {
        "id": "rG5gpPLHDJ1E",
        "colab": {
          "base_uri": "https://localhost:8080/"
        },
        "outputId": "33983cec-f39c-45e1-c1b6-cc25a0c823d6"
      },
      "execution_count": 28,
      "outputs": [
        {
          "output_type": "stream",
          "name": "stdout",
          "text": [
            "[1, 5, 4]\n",
            "[10, 2, 2]\n"
          ]
        }
      ]
    },
    {
      "cell_type": "code",
      "source": [
        "indiceEnergia=0\n",
        "dia=0\n",
        "resultado=[]\n",
        "#matriz = [range(sum(e_i)) for i in range(int(cant_dias))]\n",
        "matriz = [0] * int(cant_dias)\n",
        "for i in range(int(cant_dias)):\n",
        "    matriz[i] = [0] * int(cant_dias)\n",
        "\n",
        "indiceEsfuerzo=0\n",
        "\n",
        "matriz"
      ],
      "metadata": {
        "colab": {
          "base_uri": "https://localhost:8080/"
        },
        "id": "cH6kRAD6uudA",
        "outputId": "736a5065-5d5d-463c-8458-f4e267482e11"
      },
      "execution_count": 29,
      "outputs": [
        {
          "output_type": "execute_result",
          "data": {
            "text/plain": [
              "[[0, 0, 0], [0, 0, 0], [0, 0, 0]]"
            ]
          },
          "metadata": {},
          "execution_count": 29
        }
      ]
    },
    {
      "cell_type": "code",
      "source": [
        "def marcarEntreno(resultado):\n",
        "  resultado.append(1)\n",
        "\n",
        "def marcarDescanso(resultado):\n",
        "  resultado.append(0)\n",
        "\n",
        "def seEntrenoElDiaAnterior(resultado, diaActual):\n",
        "  if diaActual == 0:\n",
        "    return False\n",
        "  return bool(resultado[diaActual-1]) #si se entreno hay un 1\n"
      ],
      "metadata": {
        "id": "5XMuOZtnyEaA"
      },
      "execution_count": 30,
      "outputs": []
    },
    {
      "cell_type": "code",
      "source": [
        "min(s_i[dia], e_i[dia]);"
      ],
      "metadata": {
        "id": "5Yd_rN40DvSN"
      },
      "execution_count": 31,
      "outputs": []
    },
    {
      "cell_type": "code",
      "source": [
        "matriz"
      ],
      "metadata": {
        "colab": {
          "base_uri": "https://localhost:8080/"
        },
        "id": "uQWtcukv7HVd",
        "outputId": "122805f6-1b42-43a3-8fe7-9d9c0b8bbd44"
      },
      "execution_count": 32,
      "outputs": [
        {
          "output_type": "execute_result",
          "data": {
            "text/plain": [
              "[[0, 0, 0], [0, 0, 0], [0, 0, 0]]"
            ]
          },
          "metadata": {},
          "execution_count": 32
        }
      ]
    },
    {
      "cell_type": "code",
      "source": [
        "if not seEntrenoElDiaAnterior(resultado, dia):\n",
        "  indiceEnergia=0"
      ],
      "metadata": {
        "id": "kE1GW2SHqru6"
      },
      "execution_count": 33,
      "outputs": []
    },
    {
      "cell_type": "code",
      "source": [
        "def gananciaDeEntrenamientos(matriz, s_j, e_i):\n",
        "  for columna in range(len(matriz[0])):\n",
        "    for fila in range(len(matriz)):\n",
        "      if fila == 0:\n",
        "        if columna==0 or columna==1:\n",
        "          matriz[fila][columna] = min(s_j[fila], e_i[columna])\n",
        "        else:\n",
        "          matriz[fila][columna] = min(s_j[fila], e_i[columna])+ matriz[fila][columna-2]\n",
        "      elif fila == columna:\n",
        "        matriz[fila][columna] = min(s_j[fila], e_i[columna]) + matriz[fila-1][columna-1]\n",
        "      elif fila>columna: continue\n",
        "      else:\n",
        "          matriz[fila][columna] = min(s_j[fila], e_i[columna]) + matriz[fila-1][columna-1]\n",
        "  return matriz\n",
        "\n",
        "\n",
        "e_i=[36, 2, 78, 19, 59]\n",
        "s_i=[63, 61, 49, 41, 40]\n",
        "cant_dias =5\n",
        "\n",
        "matriz = [0] * int(cant_dias)\n",
        "for i in range(int(cant_dias)):\n",
        "    matriz[i] = [0] * int(cant_dias)\n",
        "\n",
        "nueva = (gananciaDeEntrenamientos(matriz, s_i, e_i))\n",
        "for i in nueva:\n",
        "  print(i)\n",
        ""
      ],
      "metadata": {
        "colab": {
          "base_uri": "https://localhost:8080/"
        },
        "id": "teGcwP-eG-4p",
        "outputId": "bae406e5-a286-49fa-dfaa-9173c7bd7887"
      },
      "execution_count": 34,
      "outputs": [
        {
          "output_type": "stream",
          "name": "stdout",
          "text": [
            "[36, 2, 99, 21, 158]\n",
            "[0, 38, 63, 118, 80]\n",
            "[0, 0, 87, 82, 167]\n",
            "[0, 0, 0, 106, 123]\n",
            "[0, 0, 0, 0, 146]\n"
          ]
        }
      ]
    },
    {
      "cell_type": "code",
      "source": [
        "nuevafila=[0]*len(nueva[0])\n",
        "print(nuevafila)\n",
        "i=0\n",
        "for fila in nueva:\n",
        "  nuevafila[i]=fila[-1]\n",
        "  i+=1\n",
        "\n",
        "nuevafila\n",
        "\n"
      ],
      "metadata": {
        "colab": {
          "base_uri": "https://localhost:8080/"
        },
        "id": "R_qE5YN5ciOD",
        "outputId": "3f89f3a4-11f9-4974-f88a-fb3e532f53a5"
      },
      "execution_count": 46,
      "outputs": [
        {
          "output_type": "stream",
          "name": "stdout",
          "text": [
            "[0, 0, 0, 0, 0]\n"
          ]
        },
        {
          "output_type": "execute_result",
          "data": {
            "text/plain": [
              "[158, 80, 167, 123, 146]"
            ]
          },
          "metadata": {},
          "execution_count": 46
        }
      ]
    }
  ]
}