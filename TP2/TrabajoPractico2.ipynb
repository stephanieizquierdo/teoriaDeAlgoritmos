{
  "nbformat": 4,
  "nbformat_minor": 0,
  "metadata": {
    "colab": {
      "provenance": []
    },
    "kernelspec": {
      "name": "python3",
      "display_name": "Python 3"
    },
    "language_info": {
      "name": "python"
    }
  },
  "cells": [
    {
      "cell_type": "markdown",
      "source": [
        "Teoría de Algoritmos - Trabajo Práctico 1\n",
        "\n"
      ],
      "metadata": {
        "id": "FBHmcSizwxhK"
      }
    },
    {
      "cell_type": "markdown",
      "source": [
        " El entrenamiento del día  i demanda una cantidad de esfuerzo  ei , y podemos decir que la ganancia que nos da dicho entrenamiento es igual al esfuerzo. El entrenamiento que corresponde al día i (así como su esfuerzo y ganancia) son inamovibles: el Chiqui Tapia alquiló las herramientas específicas para cada día, y la AFA está muy ocupada organizando el torneo de 2^30 equipos del año que viene para andar moviendo cosas. Si la cantidad de energía que se tiene para un día i es j < ei, entonces la ganancia que se obtiene en ese caso es justamente j. (si se tiene más energía que ei, no es que se pueda usar más para tener más ganancia).\n",
        "\n",
        " La cantidad de energía que tienen disponible para cada día va disminuyendo a medida que pasan los entrenamientos\n",
        "\n",
        " el primer día luego de dicho descanso los jugadores tienen energía s1. El segundo día luego del descanso tienen energía s2, etc.\n",
        "s1>s2>...>sn\n",
        "\n",
        " Scaloni puede decidir dejarlos descansar un día, haciendo que la energía “se renueve”\n",
        "\n",
        "\n",
        "**OBJETIVO: definir los días que deba entrenarse y los días que convenga descansar de tal forma de tener la mayor ganancia posible**"
      ],
      "metadata": {
        "id": "oH6JMXOrxIH_"
      }
    },
    {
      "cell_type": "code",
      "source": [
        "import numpy as np"
      ],
      "metadata": {
        "id": "5PK1hxT895Ng"
      },
      "execution_count": 1,
      "outputs": []
    },
    {
      "cell_type": "code",
      "source": [
        "from google.colab import files\n",
        "upload = files.upload()"
      ],
      "metadata": {
        "colab": {
          "base_uri": "https://localhost:8080/",
          "height": 391
        },
        "id": "2CcWVfGV9580",
        "outputId": "b93a0609-7a76-4e6a-9830-f66cdf1c91d3"
      },
      "execution_count": 2,
      "outputs": [
        {
          "output_type": "display_data",
          "data": {
            "text/plain": [
              "<IPython.core.display.HTML object>"
            ],
            "text/html": [
              "\n",
              "     <input type=\"file\" id=\"files-9a481232-fcd6-479c-8fdb-51df31908832\" name=\"files[]\" multiple disabled\n",
              "        style=\"border:none\" />\n",
              "     <output id=\"result-9a481232-fcd6-479c-8fdb-51df31908832\">\n",
              "      Upload widget is only available when the cell has been executed in the\n",
              "      current browser session. Please rerun this cell to enable.\n",
              "      </output>\n",
              "      <script>// Copyright 2017 Google LLC\n",
              "//\n",
              "// Licensed under the Apache License, Version 2.0 (the \"License\");\n",
              "// you may not use this file except in compliance with the License.\n",
              "// You may obtain a copy of the License at\n",
              "//\n",
              "//      http://www.apache.org/licenses/LICENSE-2.0\n",
              "//\n",
              "// Unless required by applicable law or agreed to in writing, software\n",
              "// distributed under the License is distributed on an \"AS IS\" BASIS,\n",
              "// WITHOUT WARRANTIES OR CONDITIONS OF ANY KIND, either express or implied.\n",
              "// See the License for the specific language governing permissions and\n",
              "// limitations under the License.\n",
              "\n",
              "/**\n",
              " * @fileoverview Helpers for google.colab Python module.\n",
              " */\n",
              "(function(scope) {\n",
              "function span(text, styleAttributes = {}) {\n",
              "  const element = document.createElement('span');\n",
              "  element.textContent = text;\n",
              "  for (const key of Object.keys(styleAttributes)) {\n",
              "    element.style[key] = styleAttributes[key];\n",
              "  }\n",
              "  return element;\n",
              "}\n",
              "\n",
              "// Max number of bytes which will be uploaded at a time.\n",
              "const MAX_PAYLOAD_SIZE = 100 * 1024;\n",
              "\n",
              "function _uploadFiles(inputId, outputId) {\n",
              "  const steps = uploadFilesStep(inputId, outputId);\n",
              "  const outputElement = document.getElementById(outputId);\n",
              "  // Cache steps on the outputElement to make it available for the next call\n",
              "  // to uploadFilesContinue from Python.\n",
              "  outputElement.steps = steps;\n",
              "\n",
              "  return _uploadFilesContinue(outputId);\n",
              "}\n",
              "\n",
              "// This is roughly an async generator (not supported in the browser yet),\n",
              "// where there are multiple asynchronous steps and the Python side is going\n",
              "// to poll for completion of each step.\n",
              "// This uses a Promise to block the python side on completion of each step,\n",
              "// then passes the result of the previous step as the input to the next step.\n",
              "function _uploadFilesContinue(outputId) {\n",
              "  const outputElement = document.getElementById(outputId);\n",
              "  const steps = outputElement.steps;\n",
              "\n",
              "  const next = steps.next(outputElement.lastPromiseValue);\n",
              "  return Promise.resolve(next.value.promise).then((value) => {\n",
              "    // Cache the last promise value to make it available to the next\n",
              "    // step of the generator.\n",
              "    outputElement.lastPromiseValue = value;\n",
              "    return next.value.response;\n",
              "  });\n",
              "}\n",
              "\n",
              "/**\n",
              " * Generator function which is called between each async step of the upload\n",
              " * process.\n",
              " * @param {string} inputId Element ID of the input file picker element.\n",
              " * @param {string} outputId Element ID of the output display.\n",
              " * @return {!Iterable<!Object>} Iterable of next steps.\n",
              " */\n",
              "function* uploadFilesStep(inputId, outputId) {\n",
              "  const inputElement = document.getElementById(inputId);\n",
              "  inputElement.disabled = false;\n",
              "\n",
              "  const outputElement = document.getElementById(outputId);\n",
              "  outputElement.innerHTML = '';\n",
              "\n",
              "  const pickedPromise = new Promise((resolve) => {\n",
              "    inputElement.addEventListener('change', (e) => {\n",
              "      resolve(e.target.files);\n",
              "    });\n",
              "  });\n",
              "\n",
              "  const cancel = document.createElement('button');\n",
              "  inputElement.parentElement.appendChild(cancel);\n",
              "  cancel.textContent = 'Cancel upload';\n",
              "  const cancelPromise = new Promise((resolve) => {\n",
              "    cancel.onclick = () => {\n",
              "      resolve(null);\n",
              "    };\n",
              "  });\n",
              "\n",
              "  // Wait for the user to pick the files.\n",
              "  const files = yield {\n",
              "    promise: Promise.race([pickedPromise, cancelPromise]),\n",
              "    response: {\n",
              "      action: 'starting',\n",
              "    }\n",
              "  };\n",
              "\n",
              "  cancel.remove();\n",
              "\n",
              "  // Disable the input element since further picks are not allowed.\n",
              "  inputElement.disabled = true;\n",
              "\n",
              "  if (!files) {\n",
              "    return {\n",
              "      response: {\n",
              "        action: 'complete',\n",
              "      }\n",
              "    };\n",
              "  }\n",
              "\n",
              "  for (const file of files) {\n",
              "    const li = document.createElement('li');\n",
              "    li.append(span(file.name, {fontWeight: 'bold'}));\n",
              "    li.append(span(\n",
              "        `(${file.type || 'n/a'}) - ${file.size} bytes, ` +\n",
              "        `last modified: ${\n",
              "            file.lastModifiedDate ? file.lastModifiedDate.toLocaleDateString() :\n",
              "                                    'n/a'} - `));\n",
              "    const percent = span('0% done');\n",
              "    li.appendChild(percent);\n",
              "\n",
              "    outputElement.appendChild(li);\n",
              "\n",
              "    const fileDataPromise = new Promise((resolve) => {\n",
              "      const reader = new FileReader();\n",
              "      reader.onload = (e) => {\n",
              "        resolve(e.target.result);\n",
              "      };\n",
              "      reader.readAsArrayBuffer(file);\n",
              "    });\n",
              "    // Wait for the data to be ready.\n",
              "    let fileData = yield {\n",
              "      promise: fileDataPromise,\n",
              "      response: {\n",
              "        action: 'continue',\n",
              "      }\n",
              "    };\n",
              "\n",
              "    // Use a chunked sending to avoid message size limits. See b/62115660.\n",
              "    let position = 0;\n",
              "    do {\n",
              "      const length = Math.min(fileData.byteLength - position, MAX_PAYLOAD_SIZE);\n",
              "      const chunk = new Uint8Array(fileData, position, length);\n",
              "      position += length;\n",
              "\n",
              "      const base64 = btoa(String.fromCharCode.apply(null, chunk));\n",
              "      yield {\n",
              "        response: {\n",
              "          action: 'append',\n",
              "          file: file.name,\n",
              "          data: base64,\n",
              "        },\n",
              "      };\n",
              "\n",
              "      let percentDone = fileData.byteLength === 0 ?\n",
              "          100 :\n",
              "          Math.round((position / fileData.byteLength) * 100);\n",
              "      percent.textContent = `${percentDone}% done`;\n",
              "\n",
              "    } while (position < fileData.byteLength);\n",
              "  }\n",
              "\n",
              "  // All done.\n",
              "  yield {\n",
              "    response: {\n",
              "      action: 'complete',\n",
              "    }\n",
              "  };\n",
              "}\n",
              "\n",
              "scope.google = scope.google || {};\n",
              "scope.google.colab = scope.google.colab || {};\n",
              "scope.google.colab._files = {\n",
              "  _uploadFiles,\n",
              "  _uploadFilesContinue,\n",
              "};\n",
              "})(self);\n",
              "</script> "
            ]
          },
          "metadata": {}
        },
        {
          "output_type": "stream",
          "name": "stdout",
          "text": [
            "Saving 10_todo_entreno.txt to 10_todo_entreno.txt\n",
            "Saving 3.txt to 3.txt\n",
            "Saving 10_bis.txt to 10_bis.txt\n",
            "Saving 10.txt to 10.txt\n",
            "Saving 50_bis.txt to 50_bis.txt\n",
            "Saving 50.txt to 50.txt\n",
            "Saving 100.txt to 100.txt\n",
            "Saving 500.txt to 500.txt\n",
            "Saving 1000.txt to 1000.txt\n",
            "Saving 5000.txt to 5000.txt\n"
          ]
        }
      ]
    },
    {
      "cell_type": "code",
      "source": [
        "def read_file(path):\n",
        "  file = open(path, mode = 'r', encoding = 'utf-8-sig')\n",
        "  leido = file.read().splitlines()\n",
        "\n",
        "  cant_dias = leido[0]\n",
        "\n",
        "  e_i=[]\n",
        "  s_i=[]\n",
        "\n",
        "  rango_cant_dias = range(int(cant_dias))\n",
        "  for dia in rango_cant_dias:\n",
        "    e_i.append(int(leido[dia+ 1]))\n",
        "    s_i.append(int(leido[int(cant_dias)+dia+1]))\n",
        "\n",
        "  file.close()\n",
        "  return e_i, s_i, cant_dias"
      ],
      "metadata": {
        "id": "CBfET7_g9za1"
      },
      "execution_count": 3,
      "outputs": []
    },
    {
      "cell_type": "code",
      "source": [
        "def scaloni_ganancia(e_i, s_i):\n",
        "  cant_dias = len(e_i)\n",
        "  matriz = np.zeros((cant_dias, cant_dias), dtype=int)\n",
        "\n",
        "  for columna in range(len(matriz[0])):\n",
        "    for fila in range(len(matriz)):\n",
        "      if fila == 0:\n",
        "        if columna==0 or columna==1:\n",
        "          matriz[fila][columna] = min(s_i[fila], e_i[columna])\n",
        "        else:\n",
        "          matriz[fila][columna] = min(s_i[fila], e_i[columna]) + max(matriz[:, columna-2])\n",
        "      elif fila > columna: continue\n",
        "      else:\n",
        "          matriz[fila][columna] = min(s_i[fila], e_i[columna]) + matriz[fila-1, columna-1]\n",
        "  return matriz\n",
        "\n"
      ],
      "metadata": {
        "id": "teGcwP-eG-4p"
      },
      "execution_count": 4,
      "outputs": []
    },
    {
      "cell_type": "code",
      "source": [
        "DESCANSO = \"Descanso\"\n",
        "ENTRENO = \"Entreno\"\n",
        "\n",
        "def scaloni_get_max_ganancia(opt):\n",
        "  return max(opt[:, -1])\n",
        "\n",
        "\n",
        "def scaloni_plan(opt):\n",
        "  cant_dias = opt.shape[1]\n",
        "  idx_fila, idx_col = (np.argmax(opt[:, -1]), cant_dias - 1)\n",
        "  plan = [ENTRENO]\n",
        "\n",
        "  while len(plan) != cant_dias:\n",
        "    if idx_fila != 0:\n",
        "      idx_fila -= 1\n",
        "      idx_col -= 1\n",
        "      plan.append(ENTRENO)\n",
        "    else:\n",
        "      idx_fila = np.argmax(opt[:, idx_col-1]) # check if idx_col == 0\n",
        "      idx_col -= 1\n",
        "      plan.append(DESCANSO)\n",
        "\n",
        "  return plan[::-1]"
      ],
      "metadata": {
        "id": "R_qE5YN5ciOD"
      },
      "execution_count": 5,
      "outputs": []
    },
    {
      "cell_type": "code",
      "source": [
        "e_i, s_i, cant_dias = read_file('3.txt')\n",
        "print(e_i)\n",
        "print(s_i)"
      ],
      "metadata": {
        "id": "rG5gpPLHDJ1E",
        "colab": {
          "base_uri": "https://localhost:8080/"
        },
        "outputId": "1fa6d7c6-3376-4302-d593-73eaf5fca32e"
      },
      "execution_count": 10,
      "outputs": [
        {
          "output_type": "stream",
          "name": "stdout",
          "text": [
            "[1, 5, 4]\n",
            "[10, 2, 2]\n"
          ]
        }
      ]
    },
    {
      "cell_type": "code",
      "source": [
        "ganancia = scaloni_ganancia(e_i, s_i)\n",
        "print(f\"Ganancia máxima: {scaloni_get_max_ganancia(ganancia)}\")\n",
        "plan = scaloni_plan(ganancia)\n",
        "print(f\"Plan de Entrenamiento: {plan}\")"
      ],
      "metadata": {
        "colab": {
          "base_uri": "https://localhost:8080/"
        },
        "id": "4cNpUD0ChwYd",
        "outputId": "4d1ada12-154d-4a6b-8c68-4633a766608c"
      },
      "execution_count": 11,
      "outputs": [
        {
          "output_type": "stream",
          "name": "stdout",
          "text": [
            "Ganancia máxima: 7\n",
            "Plan de Entrenamiento: ['Descanso', 'Entreno', 'Entreno']\n"
          ]
        }
      ]
    },
    {
      "cell_type": "code",
      "source": [
        "e_i, s_i, cant_dias = read_file('10.txt')\n",
        "ganancia = scaloni_ganancia(e_i, s_i)\n",
        "print(f\"Ganancia máxima: {scaloni_get_max_ganancia(ganancia)}\")\n",
        "plan = scaloni_plan(ganancia)\n",
        "print(f\"Plan de Entrenamiento: {plan}\")"
      ],
      "metadata": {
        "colab": {
          "base_uri": "https://localhost:8080/"
        },
        "id": "VwirUKAriGoq",
        "outputId": "8b169d0b-0c9d-4673-fda3-3e4396085e86"
      },
      "execution_count": 12,
      "outputs": [
        {
          "output_type": "stream",
          "name": "stdout",
          "text": [
            "Ganancia máxima: 380\n",
            "Plan de Entrenamiento: ['Entreno', 'Descanso', 'Entreno', 'Descanso', 'Entreno', 'Entreno', 'Entreno', 'Entreno', 'Entreno', 'Entreno']\n"
          ]
        }
      ]
    },
    {
      "cell_type": "code",
      "source": [
        "e_i=[36, 2, 78, 19, 59]\n",
        "s_i=[63, 61, 49, 41, 40]\n",
        "ganancia = scaloni_ganancia(e_i, s_i)\n",
        "print(f\"Ganancia máxima: {scaloni_get_max_ganancia(ganancia)}\")\n",
        "plan = scaloni_plan(ganancia)\n",
        "print(f\"Plan de Entrenamiento: {plan}\")"
      ],
      "metadata": {
        "colab": {
          "base_uri": "https://localhost:8080/"
        },
        "id": "35AO1bfHii5S",
        "outputId": "06914ab1-8c0a-4ef9-abd9-a770d79151a6"
      },
      "execution_count": 13,
      "outputs": [
        {
          "output_type": "stream",
          "name": "stdout",
          "text": [
            "Ganancia máxima: 167\n",
            "Plan de Entrenamiento: ['Entreno', 'Descanso', 'Entreno', 'Entreno', 'Entreno']\n"
          ]
        }
      ]
    },
    {
      "cell_type": "code",
      "source": [],
      "metadata": {
        "id": "NkeY2unfi_kh"
      },
      "execution_count": null,
      "outputs": []
    }
  ]
}