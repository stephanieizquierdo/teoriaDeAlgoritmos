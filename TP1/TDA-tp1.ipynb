{
  "nbformat": 4,
  "nbformat_minor": 0,
  "metadata": {
    "colab": {
      "provenance": []
    },
    "kernelspec": {
      "name": "python3",
      "display_name": "Python 3"
    },
    "language_info": {
      "name": "python"
    }
  },
  "cells": [
    {
      "cell_type": "markdown",
      "source": [
        "# Teoría de Algoritmos - Trabajo Práctico 1"
      ],
      "metadata": {
        "id": "eQxszFhx0seN"
      }
    },
    {
      "cell_type": "code",
      "source": [
        "import numpy as np"
      ],
      "metadata": {
        "id": "8QKcUak87c53"
      },
      "execution_count": 1,
      "outputs": []
    },
    {
      "cell_type": "code",
      "source": [
        "from google.colab import files\n",
        "upload = files.upload()"
      ],
      "metadata": {
        "colab": {
          "base_uri": "https://localhost:8080/",
          "height": 215
        },
        "id": "HwPKm_l20zLq",
        "outputId": "948e6497-d636-4ce5-ffe3-91bd0c3c69d6"
      },
      "execution_count": 2,
      "outputs": [
        {
          "output_type": "display_data",
          "data": {
            "text/plain": [
              "<IPython.core.display.HTML object>"
            ],
            "text/html": [
              "\n",
              "     <input type=\"file\" id=\"files-aa5eb924-c05b-4be5-8b47-5bdc8700596f\" name=\"files[]\" multiple disabled\n",
              "        style=\"border:none\" />\n",
              "     <output id=\"result-aa5eb924-c05b-4be5-8b47-5bdc8700596f\">\n",
              "      Upload widget is only available when the cell has been executed in the\n",
              "      current browser session. Please rerun this cell to enable.\n",
              "      </output>\n",
              "      <script>// Copyright 2017 Google LLC\n",
              "//\n",
              "// Licensed under the Apache License, Version 2.0 (the \"License\");\n",
              "// you may not use this file except in compliance with the License.\n",
              "// You may obtain a copy of the License at\n",
              "//\n",
              "//      http://www.apache.org/licenses/LICENSE-2.0\n",
              "//\n",
              "// Unless required by applicable law or agreed to in writing, software\n",
              "// distributed under the License is distributed on an \"AS IS\" BASIS,\n",
              "// WITHOUT WARRANTIES OR CONDITIONS OF ANY KIND, either express or implied.\n",
              "// See the License for the specific language governing permissions and\n",
              "// limitations under the License.\n",
              "\n",
              "/**\n",
              " * @fileoverview Helpers for google.colab Python module.\n",
              " */\n",
              "(function(scope) {\n",
              "function span(text, styleAttributes = {}) {\n",
              "  const element = document.createElement('span');\n",
              "  element.textContent = text;\n",
              "  for (const key of Object.keys(styleAttributes)) {\n",
              "    element.style[key] = styleAttributes[key];\n",
              "  }\n",
              "  return element;\n",
              "}\n",
              "\n",
              "// Max number of bytes which will be uploaded at a time.\n",
              "const MAX_PAYLOAD_SIZE = 100 * 1024;\n",
              "\n",
              "function _uploadFiles(inputId, outputId) {\n",
              "  const steps = uploadFilesStep(inputId, outputId);\n",
              "  const outputElement = document.getElementById(outputId);\n",
              "  // Cache steps on the outputElement to make it available for the next call\n",
              "  // to uploadFilesContinue from Python.\n",
              "  outputElement.steps = steps;\n",
              "\n",
              "  return _uploadFilesContinue(outputId);\n",
              "}\n",
              "\n",
              "// This is roughly an async generator (not supported in the browser yet),\n",
              "// where there are multiple asynchronous steps and the Python side is going\n",
              "// to poll for completion of each step.\n",
              "// This uses a Promise to block the python side on completion of each step,\n",
              "// then passes the result of the previous step as the input to the next step.\n",
              "function _uploadFilesContinue(outputId) {\n",
              "  const outputElement = document.getElementById(outputId);\n",
              "  const steps = outputElement.steps;\n",
              "\n",
              "  const next = steps.next(outputElement.lastPromiseValue);\n",
              "  return Promise.resolve(next.value.promise).then((value) => {\n",
              "    // Cache the last promise value to make it available to the next\n",
              "    // step of the generator.\n",
              "    outputElement.lastPromiseValue = value;\n",
              "    return next.value.response;\n",
              "  });\n",
              "}\n",
              "\n",
              "/**\n",
              " * Generator function which is called between each async step of the upload\n",
              " * process.\n",
              " * @param {string} inputId Element ID of the input file picker element.\n",
              " * @param {string} outputId Element ID of the output display.\n",
              " * @return {!Iterable<!Object>} Iterable of next steps.\n",
              " */\n",
              "function* uploadFilesStep(inputId, outputId) {\n",
              "  const inputElement = document.getElementById(inputId);\n",
              "  inputElement.disabled = false;\n",
              "\n",
              "  const outputElement = document.getElementById(outputId);\n",
              "  outputElement.innerHTML = '';\n",
              "\n",
              "  const pickedPromise = new Promise((resolve) => {\n",
              "    inputElement.addEventListener('change', (e) => {\n",
              "      resolve(e.target.files);\n",
              "    });\n",
              "  });\n",
              "\n",
              "  const cancel = document.createElement('button');\n",
              "  inputElement.parentElement.appendChild(cancel);\n",
              "  cancel.textContent = 'Cancel upload';\n",
              "  const cancelPromise = new Promise((resolve) => {\n",
              "    cancel.onclick = () => {\n",
              "      resolve(null);\n",
              "    };\n",
              "  });\n",
              "\n",
              "  // Wait for the user to pick the files.\n",
              "  const files = yield {\n",
              "    promise: Promise.race([pickedPromise, cancelPromise]),\n",
              "    response: {\n",
              "      action: 'starting',\n",
              "    }\n",
              "  };\n",
              "\n",
              "  cancel.remove();\n",
              "\n",
              "  // Disable the input element since further picks are not allowed.\n",
              "  inputElement.disabled = true;\n",
              "\n",
              "  if (!files) {\n",
              "    return {\n",
              "      response: {\n",
              "        action: 'complete',\n",
              "      }\n",
              "    };\n",
              "  }\n",
              "\n",
              "  for (const file of files) {\n",
              "    const li = document.createElement('li');\n",
              "    li.append(span(file.name, {fontWeight: 'bold'}));\n",
              "    li.append(span(\n",
              "        `(${file.type || 'n/a'}) - ${file.size} bytes, ` +\n",
              "        `last modified: ${\n",
              "            file.lastModifiedDate ? file.lastModifiedDate.toLocaleDateString() :\n",
              "                                    'n/a'} - `));\n",
              "    const percent = span('0% done');\n",
              "    li.appendChild(percent);\n",
              "\n",
              "    outputElement.appendChild(li);\n",
              "\n",
              "    const fileDataPromise = new Promise((resolve) => {\n",
              "      const reader = new FileReader();\n",
              "      reader.onload = (e) => {\n",
              "        resolve(e.target.result);\n",
              "      };\n",
              "      reader.readAsArrayBuffer(file);\n",
              "    });\n",
              "    // Wait for the data to be ready.\n",
              "    let fileData = yield {\n",
              "      promise: fileDataPromise,\n",
              "      response: {\n",
              "        action: 'continue',\n",
              "      }\n",
              "    };\n",
              "\n",
              "    // Use a chunked sending to avoid message size limits. See b/62115660.\n",
              "    let position = 0;\n",
              "    do {\n",
              "      const length = Math.min(fileData.byteLength - position, MAX_PAYLOAD_SIZE);\n",
              "      const chunk = new Uint8Array(fileData, position, length);\n",
              "      position += length;\n",
              "\n",
              "      const base64 = btoa(String.fromCharCode.apply(null, chunk));\n",
              "      yield {\n",
              "        response: {\n",
              "          action: 'append',\n",
              "          file: file.name,\n",
              "          data: base64,\n",
              "        },\n",
              "      };\n",
              "\n",
              "      let percentDone = fileData.byteLength === 0 ?\n",
              "          100 :\n",
              "          Math.round((position / fileData.byteLength) * 100);\n",
              "      percent.textContent = `${percentDone}% done`;\n",
              "\n",
              "    } while (position < fileData.byteLength);\n",
              "  }\n",
              "\n",
              "  // All done.\n",
              "  yield {\n",
              "    response: {\n",
              "      action: 'complete',\n",
              "    }\n",
              "  };\n",
              "}\n",
              "\n",
              "scope.google = scope.google || {};\n",
              "scope.google.colab = scope.google.colab || {};\n",
              "scope.google.colab._files = {\n",
              "  _uploadFiles,\n",
              "  _uploadFilesContinue,\n",
              "};\n",
              "})(self);\n",
              "</script> "
            ]
          },
          "metadata": {}
        },
        {
          "output_type": "stream",
          "name": "stdout",
          "text": [
            "Saving 3 elem.txt to 3 elem.txt\n",
            "Saving 10 elem.txt to 10 elem.txt\n",
            "Saving 100 elem.txt to 100 elem.txt\n",
            "Saving 10000 elem.txt to 10000 elem.txt\n",
            "Saving Tiempos optimos.txt to Tiempos optimos.txt\n"
          ]
        }
      ]
    },
    {
      "cell_type": "markdown",
      "source": [
        "Tenemos que ayudar a Scaloni a analizar los próximos n rivales de la selección campeona del mundo. Como técnico perfeccionista, quiere analizar videos de cada uno de los rivales. Recibió un compilado por cada rival, y necesita hacer un análisis muy detallado, lo cual le implica tomar apuntes, analizar tácticas, ver cuándo hay que hacerle un masaje a Messi, etc… Para que el análisis sea detallado, cada compilado no lo revisa únicamente él, sino también un ayudante.\n",
        "\n",
        "El análisis del rival i le toma  s(i) de tiempo a Scaloni, y luego ai al ayudante (independientemente de cuál ayudante lo vea). Lo bueno, es que después de los grandes logros obtenidos, Scaloni cuenta con n ayudantes (es decir, la misma cantidad que rivales), que pueden ver los videos completamente en paralelo. Siempre los ayudantes podrán ver los videos después que Scaloni haya terminado de verlo y analizarlo como corresponde (esto no lo delega). Cuando llega la hora que un ayudante lo vea, puede ser cualquiera, pero sólo uno lo verá (no hay ganancia en que dos lo vean).\n",
        "\n",
        "El DT necesita que los rivales estén todos con sus correspondientes análisis lo antes posible, y por eso te pide que lo ayudes. Dice que confía en vos. Sabe que no lo vas a dejar tirado."
      ],
      "metadata": {
        "id": "pH02GM9Kzwyv"
      }
    },
    {
      "cell_type": "markdown",
      "source": [
        "En criollo, tenemos a X que le toma S(i) tiempo ahcer la tarea i.\n",
        "analisis terminados= [] y de estos los ayudantes agarran a ver y A los ayudantes le cuesta A(i) tiempo\n",
        "\n"
      ],
      "metadata": {
        "id": "nEaJVevt0RuN"
      }
    },
    {
      "cell_type": "code",
      "source": [
        "def read_sample(filename):\n",
        "  return np.loadtxt(\n",
        "    filename,\n",
        "    usecols=(0, 1), delimiter=',',\n",
        "    dtype={'names': ('S_i', 'A_i'),\n",
        "                     'formats': ('i4', 'i4')},\n",
        "    skiprows=1,\n",
        ")\n"
      ],
      "metadata": {
        "id": "qjt3k9YCBzwl"
      },
      "execution_count": 3,
      "outputs": []
    },
    {
      "cell_type": "code",
      "source": [
        "def scaloni_greedy_sort(times):\n",
        "  return sorted(times, key=lambda x: x[1], reverse=True)\n",
        "\n",
        "\n",
        "def scaloni_greedy_best_time(times):\n",
        "  s_time = 0\n",
        "  a_time = 0\n",
        "  max_time = 0\n",
        "  for scaloni, ayudante in times:\n",
        "    s_time += scaloni\n",
        "    new_a_time = s_time + ayudante\n",
        "    max_time = max(a_time, new_a_time)\n",
        "    a_time = new_a_time\n",
        "\n",
        "  return max_time\n",
        "\n",
        "\n",
        "def scaloni_greedy(times):\n",
        "  times_sorted = scaloni_greedy_sort(times)\n",
        "\n",
        "  return scaloni_greedy_best_time(times_sorted)\n",
        "\n"
      ],
      "metadata": {
        "id": "kBnWawb8B0U8"
      },
      "execution_count": 4,
      "outputs": []
    },
    {
      "cell_type": "code",
      "source": [
        "sample = read_sample('10 elem.txt')\n",
        "\n",
        "scaloni_greedy(sample)"
      ],
      "metadata": {
        "colab": {
          "base_uri": "https://localhost:8080/"
        },
        "id": "GBGEMug4E90G",
        "outputId": "048472c0-266c-4c84-b8c4-ca54dd9ce76c"
      },
      "execution_count": 5,
      "outputs": [
        {
          "output_type": "execute_result",
          "data": {
            "text/plain": [
              "29"
            ]
          },
          "metadata": {},
          "execution_count": 5
        }
      ]
    },
    {
      "cell_type": "code",
      "source": [
        "scaloni_greedy([(10, 100), (90, 1)])"
      ],
      "metadata": {
        "colab": {
          "base_uri": "https://localhost:8080/"
        },
        "id": "61lIK9iOKLff",
        "outputId": "708b5636-6492-46f4-bcfd-731d7b2737a6"
      },
      "execution_count": 6,
      "outputs": [
        {
          "output_type": "execute_result",
          "data": {
            "text/plain": [
              "110"
            ]
          },
          "metadata": {},
          "execution_count": 6
        }
      ]
    },
    {
      "cell_type": "code",
      "source": [
        "files = ['3 elem.txt', '10 elem.txt', '100 elem.txt', '10000 elem.txt']\n",
        "\n",
        "for f in files:\n",
        "  sample = read_sample(f)\n",
        "\n",
        "  print(scaloni_greedy(sample))"
      ],
      "metadata": {
        "colab": {
          "base_uri": "https://localhost:8080/"
        },
        "id": "ZqyLlG5jHMXO",
        "outputId": "c49809dc-1f68-40bb-f929-b5fddbacc883"
      },
      "execution_count": 7,
      "outputs": [
        {
          "output_type": "stream",
          "name": "stdout",
          "text": [
            "10\n",
            "29\n",
            "5223\n",
            "497886735\n"
          ]
        }
      ]
    },
    {
      "cell_type": "markdown",
      "source": [
        "## Generación sets"
      ],
      "metadata": {
        "id": "DxrsiBVH6GLJ"
      }
    },
    {
      "cell_type": "code",
      "source": [
        "rng = np.random.default_rng(seed=42)\n",
        "def generate_random(n, lower_limit=1, upper_limit=20):\n",
        "  s = rng.integers(lower_limit, upper_limit, size=n)\n",
        "  a = rng.integers(lower_limit, upper_limit, size=n)\n",
        "  return [(s[i], a[i]) for i in range(0, len(s))]"
      ],
      "metadata": {
        "id": "8oH480oFGdzp"
      },
      "execution_count": 186,
      "outputs": []
    },
    {
      "cell_type": "code",
      "source": [
        "sample_random = generate_random(5)"
      ],
      "metadata": {
        "id": "T1CCIGZ3HtCU"
      },
      "execution_count": 187,
      "outputs": []
    },
    {
      "cell_type": "code",
      "source": [
        "sample_random"
      ],
      "metadata": {
        "colab": {
          "base_uri": "https://localhost:8080/"
        },
        "id": "e7L5bxzSHvkh",
        "outputId": "e24fe8d3-2eb2-4d4d-b3ea-1d689838ccbc"
      },
      "execution_count": 188,
      "outputs": [
        {
          "output_type": "execute_result",
          "data": {
            "text/plain": [
              "[(2, 17), (15, 2), (13, 14), (9, 4), (9, 2)]"
            ]
          },
          "metadata": {},
          "execution_count": 188
        }
      ]
    },
    {
      "cell_type": "code",
      "source": [
        "scaloni_greedy(sample_random)"
      ],
      "metadata": {
        "id": "93YjnV1xfb5X",
        "colab": {
          "base_uri": "https://localhost:8080/"
        },
        "outputId": "c4af0d76-29b5-46c4-c087-0dc9fd321693"
      },
      "execution_count": 189,
      "outputs": [
        {
          "output_type": "execute_result",
          "data": {
            "text/plain": [
              "50"
            ]
          },
          "metadata": {},
          "execution_count": 189
        }
      ]
    },
    {
      "cell_type": "markdown",
      "source": [
        "TODOs:\n",
        "- Agregar gráfico para comparar con distintos N y ver la complejidad del algoritmo visualmente (debería ser una curva simil n log(n)\n"
      ],
      "metadata": {
        "id": "Rn5tlomZkwtP"
      }
    },
    {
      "cell_type": "code",
      "source": [
        "import time\n",
        "import matplotlib.pyplot as plt"
      ],
      "metadata": {
        "id": "5ffcRApjZUxa"
      },
      "execution_count": 190,
      "outputs": []
    },
    {
      "cell_type": "code",
      "source": [
        "def timeit_scaloni(sample):\n",
        "  start_time = time.time()\n",
        "  scaloni_greedy(sample)\n",
        "  end_time = time.time()\n",
        "  return end_time - start_time"
      ],
      "metadata": {
        "id": "N7Np0JgMleXt"
      },
      "execution_count": 191,
      "outputs": []
    },
    {
      "cell_type": "code",
      "source": [
        "data_n = []\n",
        "data_time = []\n",
        "\n",
        "inicio_rango = 10\n",
        "fin_rango = 75000\n",
        "incremento = 10\n",
        "\n",
        "for n in range(inicio_rango, fin_rango + 1, incremento):\n",
        "    # Genera tus datos o carga datos de alguna fuente\n",
        "    data = generate_random(n)  # Ajusta esto según tu caso\n",
        "\n",
        "    timeit = timeit_scaloni(data)\n",
        "\n",
        "    data_n.append(n)\n",
        "    data_time.append(timeit*1000)\n",
        ""
      ],
      "metadata": {
        "id": "hZRTVBTToX_K"
      },
      "execution_count": 192,
      "outputs": []
    },
    {
      "cell_type": "code",
      "source": [
        "import math\n",
        "window_size = 500\n",
        "\n",
        "x = data_n\n",
        "y = data_time\n",
        "\n",
        "y_suavizado = np.convolve(y, np.ones(window_size)/window_size, mode='same')\n",
        "\n",
        "plt.plot(x, y, label='Mediciones sin suavizar', linewidth=2)\n",
        "plt.plot(x, y_suavizado, label='Mediciones suavizadas', linewidth=2)\n",
        "# plt.plot(x, [n*math.log2(n)/10000 for n in x], label='nlogn', linewidth=2)\n",
        "plt.title('Tiempo de ejecución vs. Tamaño de datos')\n",
        "plt.xlabel('Tamaño de datos')\n",
        "plt.ylabel('Tiempo de ejecución [ms]')\n",
        "plt.grid(True)\n",
        "plt.legend()\n",
        "plt.show()"
      ],
      "metadata": {
        "colab": {
          "base_uri": "https://localhost:8080/",
          "height": 472
        },
        "id": "k1Jw_LTiqozf",
        "outputId": "fa8d34c0-5d21-4232-b6f1-684eb93c99ea"
      },
      "execution_count": 195,
      "outputs": [
        {
          "output_type": "display_data",
          "data": {
            "text/plain": [
              "<Figure size 640x480 with 1 Axes>"
            ],
            "image/png": "[encoded data removed]"
          },
          "metadata": {}
        }
      ]
    },
    {
      "cell_type": "code",
      "source": [],
      "metadata": {
        "id": "sSMhqClOzjAb"
      },
      "execution_count": 185,
      "outputs": []
    }
  ]
}