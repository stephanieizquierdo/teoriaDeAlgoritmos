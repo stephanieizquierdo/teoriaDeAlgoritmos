{
  "nbformat": 4,
  "nbformat_minor": 0,
  "metadata": {
    "colab": {
      "provenance": []
    },
    "kernelspec": {
      "name": "python3",
      "display_name": "Python 3"
    },
    "language_info": {
      "name": "python"
    }
  },
  "cells": [
    {
      "cell_type": "markdown",
      "source": [
        "# Teoría de Algoritmos - Trabajo Práctico 1"
      ],
      "metadata": {
        "id": "eQxszFhx0seN"
      }
    },
    {
      "cell_type": "code",
      "source": [
        "from google.colab import files\n",
        "upload = files.upload()"
      ],
      "metadata": {
        "colab": {
          "base_uri": "https://localhost:8080/",
          "height": 215
        },
        "id": "HwPKm_l20zLq",
        "outputId": "c9cdb04d-5e9c-413a-fa78-e735d7038968"
      },
      "execution_count": 1,
      "outputs": [
        {
          "output_type": "display_data",
          "data": {
            "text/plain": [
              "<IPython.core.display.HTML object>"
            ],
            "text/html": [
              "\n",
              "     <input type=\"file\" id=\"files-0236c453-d5c6-4d6a-86f2-d24534f837a1\" name=\"files[]\" multiple disabled\n",
              "        style=\"border:none\" />\n",
              "     <output id=\"result-0236c453-d5c6-4d6a-86f2-d24534f837a1\">\n",
              "      Upload widget is only available when the cell has been executed in the\n",
              "      current browser session. Please rerun this cell to enable.\n",
              "      </output>\n",
              "      <script>// Copyright 2017 Google LLC\n",
              "//\n",
              "// Licensed under the Apache License, Version 2.0 (the \"License\");\n",
              "// you may not use this file except in compliance with the License.\n",
              "// You may obtain a copy of the License at\n",
              "//\n",
              "//      http://www.apache.org/licenses/LICENSE-2.0\n",
              "//\n",
              "// Unless required by applicable law or agreed to in writing, software\n",
              "// distributed under the License is distributed on an \"AS IS\" BASIS,\n",
              "// WITHOUT WARRANTIES OR CONDITIONS OF ANY KIND, either express or implied.\n",
              "// See the License for the specific language governing permissions and\n",
              "// limitations under the License.\n",
              "\n",
              "/**\n",
              " * @fileoverview Helpers for google.colab Python module.\n",
              " */\n",
              "(function(scope) {\n",
              "function span(text, styleAttributes = {}) {\n",
              "  const element = document.createElement('span');\n",
              "  element.textContent = text;\n",
              "  for (const key of Object.keys(styleAttributes)) {\n",
              "    element.style[key] = styleAttributes[key];\n",
              "  }\n",
              "  return element;\n",
              "}\n",
              "\n",
              "// Max number of bytes which will be uploaded at a time.\n",
              "const MAX_PAYLOAD_SIZE = 100 * 1024;\n",
              "\n",
              "function _uploadFiles(inputId, outputId) {\n",
              "  const steps = uploadFilesStep(inputId, outputId);\n",
              "  const outputElement = document.getElementById(outputId);\n",
              "  // Cache steps on the outputElement to make it available for the next call\n",
              "  // to uploadFilesContinue from Python.\n",
              "  outputElement.steps = steps;\n",
              "\n",
              "  return _uploadFilesContinue(outputId);\n",
              "}\n",
              "\n",
              "// This is roughly an async generator (not supported in the browser yet),\n",
              "// where there are multiple asynchronous steps and the Python side is going\n",
              "// to poll for completion of each step.\n",
              "// This uses a Promise to block the python side on completion of each step,\n",
              "// then passes the result of the previous step as the input to the next step.\n",
              "function _uploadFilesContinue(outputId) {\n",
              "  const outputElement = document.getElementById(outputId);\n",
              "  const steps = outputElement.steps;\n",
              "\n",
              "  const next = steps.next(outputElement.lastPromiseValue);\n",
              "  return Promise.resolve(next.value.promise).then((value) => {\n",
              "    // Cache the last promise value to make it available to the next\n",
              "    // step of the generator.\n",
              "    outputElement.lastPromiseValue = value;\n",
              "    return next.value.response;\n",
              "  });\n",
              "}\n",
              "\n",
              "/**\n",
              " * Generator function which is called between each async step of the upload\n",
              " * process.\n",
              " * @param {string} inputId Element ID of the input file picker element.\n",
              " * @param {string} outputId Element ID of the output display.\n",
              " * @return {!Iterable<!Object>} Iterable of next steps.\n",
              " */\n",
              "function* uploadFilesStep(inputId, outputId) {\n",
              "  const inputElement = document.getElementById(inputId);\n",
              "  inputElement.disabled = false;\n",
              "\n",
              "  const outputElement = document.getElementById(outputId);\n",
              "  outputElement.innerHTML = '';\n",
              "\n",
              "  const pickedPromise = new Promise((resolve) => {\n",
              "    inputElement.addEventListener('change', (e) => {\n",
              "      resolve(e.target.files);\n",
              "    });\n",
              "  });\n",
              "\n",
              "  const cancel = document.createElement('button');\n",
              "  inputElement.parentElement.appendChild(cancel);\n",
              "  cancel.textContent = 'Cancel upload';\n",
              "  const cancelPromise = new Promise((resolve) => {\n",
              "    cancel.onclick = () => {\n",
              "      resolve(null);\n",
              "    };\n",
              "  });\n",
              "\n",
              "  // Wait for the user to pick the files.\n",
              "  const files = yield {\n",
              "    promise: Promise.race([pickedPromise, cancelPromise]),\n",
              "    response: {\n",
              "      action: 'starting',\n",
              "    }\n",
              "  };\n",
              "\n",
              "  cancel.remove();\n",
              "\n",
              "  // Disable the input element since further picks are not allowed.\n",
              "  inputElement.disabled = true;\n",
              "\n",
              "  if (!files) {\n",
              "    return {\n",
              "      response: {\n",
              "        action: 'complete',\n",
              "      }\n",
              "    };\n",
              "  }\n",
              "\n",
              "  for (const file of files) {\n",
              "    const li = document.createElement('li');\n",
              "    li.append(span(file.name, {fontWeight: 'bold'}));\n",
              "    li.append(span(\n",
              "        `(${file.type || 'n/a'}) - ${file.size} bytes, ` +\n",
              "        `last modified: ${\n",
              "            file.lastModifiedDate ? file.lastModifiedDate.toLocaleDateString() :\n",
              "                                    'n/a'} - `));\n",
              "    const percent = span('0% done');\n",
              "    li.appendChild(percent);\n",
              "\n",
              "    outputElement.appendChild(li);\n",
              "\n",
              "    const fileDataPromise = new Promise((resolve) => {\n",
              "      const reader = new FileReader();\n",
              "      reader.onload = (e) => {\n",
              "        resolve(e.target.result);\n",
              "      };\n",
              "      reader.readAsArrayBuffer(file);\n",
              "    });\n",
              "    // Wait for the data to be ready.\n",
              "    let fileData = yield {\n",
              "      promise: fileDataPromise,\n",
              "      response: {\n",
              "        action: 'continue',\n",
              "      }\n",
              "    };\n",
              "\n",
              "    // Use a chunked sending to avoid message size limits. See b/62115660.\n",
              "    let position = 0;\n",
              "    do {\n",
              "      const length = Math.min(fileData.byteLength - position, MAX_PAYLOAD_SIZE);\n",
              "      const chunk = new Uint8Array(fileData, position, length);\n",
              "      position += length;\n",
              "\n",
              "      const base64 = btoa(String.fromCharCode.apply(null, chunk));\n",
              "      yield {\n",
              "        response: {\n",
              "          action: 'append',\n",
              "          file: file.name,\n",
              "          data: base64,\n",
              "        },\n",
              "      };\n",
              "\n",
              "      let percentDone = fileData.byteLength === 0 ?\n",
              "          100 :\n",
              "          Math.round((position / fileData.byteLength) * 100);\n",
              "      percent.textContent = `${percentDone}% done`;\n",
              "\n",
              "    } while (position < fileData.byteLength);\n",
              "  }\n",
              "\n",
              "  // All done.\n",
              "  yield {\n",
              "    response: {\n",
              "      action: 'complete',\n",
              "    }\n",
              "  };\n",
              "}\n",
              "\n",
              "scope.google = scope.google || {};\n",
              "scope.google.colab = scope.google.colab || {};\n",
              "scope.google.colab._files = {\n",
              "  _uploadFiles,\n",
              "  _uploadFilesContinue,\n",
              "};\n",
              "})(self);\n",
              "</script> "
            ]
          },
          "metadata": {}
        },
        {
          "output_type": "stream",
          "name": "stdout",
          "text": [
            "Saving 3 elem.txt to 3 elem.txt\n",
            "Saving 10 elem.txt to 10 elem.txt\n",
            "Saving 100 elem.txt to 100 elem.txt\n",
            "Saving 10000 elem.txt to 10000 elem.txt\n",
            "Saving Tiempos optimos.txt to Tiempos optimos.txt\n"
          ]
        }
      ]
    },
    {
      "cell_type": "markdown",
      "source": [
        "Tenemos que ayudar a Scaloni a analizar los próximos n rivales de la selección campeona del mundo. Como técnico perfeccionista, quiere analizar videos de cada uno de los rivales. Recibió un compilado por cada rival, y necesita hacer un análisis muy detallado, lo cual le implica tomar apuntes, analizar tácticas, ver cuándo hay que hacerle un masaje a Messi, etc… Para que el análisis sea detallado, cada compilado no lo revisa únicamente él, sino también un ayudante.\n",
        "\n",
        "El análisis del rival i le toma  s(i) de tiempo a Scaloni, y luego ai al ayudante (independientemente de cuál ayudante lo vea). Lo bueno, es que después de los grandes logros obtenidos, Scaloni cuenta con n ayudantes (es decir, la misma cantidad que rivales), que pueden ver los videos completamente en paralelo. Siempre los ayudantes podrán ver los videos después que Scaloni haya terminado de verlo y analizarlo como corresponde (esto no lo delega). Cuando llega la hora que un ayudante lo vea, puede ser cualquiera, pero sólo uno lo verá (no hay ganancia en que dos lo vean).\n",
        "\n",
        "El DT necesita que los rivales estén todos con sus correspondientes análisis lo antes posible, y por eso te pide que lo ayudes. Dice que confía en vos. Sabe que no lo vas a dejar tirado."
      ],
      "metadata": {
        "id": "pH02GM9Kzwyv"
      }
    },
    {
      "cell_type": "markdown",
      "source": [
        "En criollo, tenemos a X que le toma S(i) tiempo ahcer la tarea i.\n",
        "analisis terminados= [] y de estos los ayudantes agarran a ver y A los ayudantes le cuesta A(i) tiempo\n",
        "\n"
      ],
      "metadata": {
        "id": "nEaJVevt0RuN"
      }
    },
    {
      "cell_type": "code",
      "source": [
        "import numpy as np\n",
        "\n",
        "def read_sample(filename):\n",
        "  return np.loadtxt(\n",
        "    filename,\n",
        "    usecols=(0, 1), delimiter=',',\n",
        "    dtype={'names': ('S_i', 'A_i'),\n",
        "                     'formats': ('i4', 'i4')},\n",
        "    skiprows=1,\n",
        ")\n"
      ],
      "metadata": {
        "id": "qjt3k9YCBzwl"
      },
      "execution_count": 2,
      "outputs": []
    },
    {
      "cell_type": "code",
      "source": [
        "def scaloni_greedy(s, a):\n",
        "  avg = [(s[i], a[i], a[i]/s[i]) for i in range(0, len(s))]\n",
        "\n",
        "  avg_sorted = sorted(avg, key=lambda x: (x[2], x[1]), reverse=True)\n",
        "\n",
        "  s_time = 0\n",
        "  a_time = 0\n",
        "  max_time = 0\n",
        "  for scaloni, ayudante, _ in avg_sorted:\n",
        "    s_time += scaloni\n",
        "    new_a_time = s_time + ayudante\n",
        "    max_time = max(a_time, new_a_time)\n",
        "    a_time = new_a_time\n",
        "\n",
        "    # print(f\"Video para scaloni:{scaloni}, ayudante:{ayudante}, s_time={s_time}, a_time={a_time}\")\n",
        "\n",
        "  return max_time\n",
        "\n",
        "\n"
      ],
      "metadata": {
        "id": "kBnWawb8B0U8"
      },
      "execution_count": 3,
      "outputs": []
    },
    {
      "cell_type": "code",
      "source": [
        "sample = read_sample('10 elem.txt')\n",
        "s, a = zip(*sample)\n",
        "\n",
        "scaloni_greedy(s, a)"
      ],
      "metadata": {
        "colab": {
          "base_uri": "https://localhost:8080/"
        },
        "id": "GBGEMug4E90G",
        "outputId": "56dceef8-df8b-4f62-d16e-179ca254837a"
      },
      "execution_count": 4,
      "outputs": [
        {
          "output_type": "execute_result",
          "data": {
            "text/plain": [
              "29"
            ]
          },
          "metadata": {},
          "execution_count": 4
        }
      ]
    },
    {
      "cell_type": "code",
      "source": [
        "scaloni_greedy([10, 90], [100, 1])"
      ],
      "metadata": {
        "colab": {
          "base_uri": "https://localhost:8080/"
        },
        "id": "61lIK9iOKLff",
        "outputId": "b394c568-4f12-4166-eba2-03423250b585"
      },
      "execution_count": 5,
      "outputs": [
        {
          "output_type": "execute_result",
          "data": {
            "text/plain": [
              "110"
            ]
          },
          "metadata": {},
          "execution_count": 5
        }
      ]
    },
    {
      "cell_type": "code",
      "source": [
        "files = ['3 elem.txt', '10 elem.txt', '100 elem.txt', '10000 elem.txt']\n",
        "\n",
        "for f in files:\n",
        "  sample = read_sample(f)\n",
        "  s, a = zip(*sample)\n",
        "\n",
        "  print(scaloni_greedy(s, a))"
      ],
      "metadata": {
        "colab": {
          "base_uri": "https://localhost:8080/"
        },
        "id": "ZqyLlG5jHMXO",
        "outputId": "18a23754-c957-421a-889c-47a6223d77eb"
      },
      "execution_count": 6,
      "outputs": [
        {
          "output_type": "stream",
          "name": "stdout",
          "text": [
            "10\n",
            "29\n",
            "5226\n",
            "497886767\n"
          ]
        }
      ]
    },
    {
      "cell_type": "markdown",
      "source": [
        "Probando a ver dónde le estamos pifiando"
      ],
      "metadata": {
        "id": "t4pkEkRh7rZ9"
      }
    },
    {
      "cell_type": "code",
      "source": [
        "def debug_scaloni_greedy(s, a):\n",
        "  avg = [(s[i], a[i], a[i]/s[i]) for i in range(0, len(s))]\n",
        "\n",
        "  avg_sorted = sorted(avg, key=lambda x: (x[2], x[1]), reverse=True)\n",
        "\n",
        "  print(avg_sorted)\n",
        "\n",
        "  s_time = 0\n",
        "  a_time = 0\n",
        "  max_time = 0\n",
        "  for scaloni, ayudante, _ in avg_sorted:\n",
        "    s_time += scaloni\n",
        "    new_a_time = s_time + ayudante\n",
        "    max_time = max(a_time, new_a_time)\n",
        "    a_time = new_a_time\n",
        "\n",
        "    print(f\"Video para scaloni:{scaloni}, ayudante:{ayudante}, s_time={s_time}, a_time={a_time}\")\n",
        "\n",
        "  return max_time\n",
        "\n",
        "\n"
      ],
      "metadata": {
        "id": "uJZpL8oGLz_M"
      },
      "execution_count": 7,
      "outputs": []
    },
    {
      "cell_type": "code",
      "source": [
        "sample = read_sample('100 elem.txt')\n",
        "s, a = zip(*sample)\n",
        "\n",
        "debug_scaloni_greedy(s, a)"
      ],
      "metadata": {
        "colab": {
          "base_uri": "https://localhost:8080/"
        },
        "id": "vTcoAFi2LxP-",
        "outputId": "62f211e5-36ea-437c-8607-91e9f0b07f14"
      },
      "execution_count": 8,
      "outputs": [
        {
          "output_type": "stream",
          "name": "stdout",
          "text": [
            "[(10, 85, 8.5), (16, 97, 6.0625), (16, 81, 5.0625), (13, 61, 4.6923076923076925), (21, 89, 4.238095238095238), (19, 79, 4.157894736842105), (25, 94, 3.76), (13, 44, 3.3846153846153846), (21, 69, 3.2857142857142856), (22, 68, 3.090909090909091), (23, 70, 3.0434782608695654), (31, 92, 2.967741935483871), (16, 45, 2.8125), (34, 93, 2.735294117647059), (34, 89, 2.6176470588235294), (17, 42, 2.4705882352941178), (25, 61, 2.44), (16, 37, 2.3125), (35, 80, 2.2857142857142856), (44, 97, 2.2045454545454546), (32, 70, 2.1875), (42, 90, 2.142857142857143), (15, 31, 2.066666666666667), (35, 72, 2.057142857142857), (41, 83, 2.024390243902439), (23, 45, 1.9565217391304348), (37, 72, 1.945945945945946), (44, 82, 1.8636363636363635), (29, 53, 1.8275862068965518), (43, 78, 1.813953488372093), (26, 47, 1.8076923076923077), (44, 76, 1.7272727272727273), (57, 95, 1.6666666666666667), (66, 100, 1.5151515151515151), (41, 60, 1.4634146341463414), (54, 79, 1.462962962962963), (57, 83, 1.456140350877193), (69, 99, 1.434782608695652), (63, 90, 1.4285714285714286), (41, 57, 1.3902439024390243), (62, 79, 1.2741935483870968), (37, 47, 1.2702702702702702), (17, 21, 1.2352941176470589), (50, 61, 1.22), (16, 19, 1.1875), (51, 60, 1.1764705882352942), (62, 72, 1.1612903225806452), (64, 73, 1.140625), (38, 43, 1.131578947368421), (58, 65, 1.1206896551724137), (36, 37, 1.0277777777777777), (82, 83, 1.0121951219512195), (20, 20, 1.0), (61, 59, 0.9672131147540983), (53, 51, 0.9622641509433962), (56, 52, 0.9285714285714286), (99, 91, 0.9191919191919192), (99, 86, 0.8686868686868687), (78, 66, 0.8461538461538461), (47, 39, 0.8297872340425532), (86, 70, 0.813953488372093), (51, 40, 0.7843137254901961), (70, 54, 0.7714285714285715), (78, 60, 0.7692307692307693), (85, 61, 0.7176470588235294), (67, 47, 0.7014925373134329), (90, 61, 0.6777777777777778), (58, 39, 0.6724137931034483), (75, 49, 0.6533333333333333), (72, 45, 0.625), (72, 45, 0.625), (86, 53, 0.6162790697674418), (91, 55, 0.6043956043956044), (96, 58, 0.6041666666666666), (83, 47, 0.5662650602409639), (62, 35, 0.5645161290322581), (58, 32, 0.5517241379310345), (92, 46, 0.5), (80, 40, 0.5), (69, 34, 0.4927536231884058), (34, 16, 0.47058823529411764), (42, 18, 0.42857142857142855), (86, 36, 0.4186046511627907), (91, 38, 0.4175824175824176), (82, 34, 0.4146341463414634), (37, 15, 0.40540540540540543), (43, 17, 0.3953488372093023), (33, 12, 0.36363636363636365), (43, 15, 0.3488372093023256), (41, 14, 0.34146341463414637), (65, 22, 0.3384615384615385), (97, 29, 0.29896907216494845), (100, 27, 0.27), (86, 23, 0.26744186046511625), (83, 22, 0.26506024096385544), (70, 18, 0.2571428571428571), (70, 16, 0.22857142857142856), (45, 10, 0.2222222222222222), (76, 14, 0.18421052631578946), (72, 13, 0.18055555555555555)]\n",
            "Video para scaloni:10, ayudante:85, s_time=10, a_time=95\n",
            "Video para scaloni:16, ayudante:97, s_time=26, a_time=123\n",
            "Video para scaloni:16, ayudante:81, s_time=42, a_time=123\n",
            "Video para scaloni:13, ayudante:61, s_time=55, a_time=116\n",
            "Video para scaloni:21, ayudante:89, s_time=76, a_time=165\n",
            "Video para scaloni:19, ayudante:79, s_time=95, a_time=174\n",
            "Video para scaloni:25, ayudante:94, s_time=120, a_time=214\n",
            "Video para scaloni:13, ayudante:44, s_time=133, a_time=177\n",
            "Video para scaloni:21, ayudante:69, s_time=154, a_time=223\n",
            "Video para scaloni:22, ayudante:68, s_time=176, a_time=244\n",
            "Video para scaloni:23, ayudante:70, s_time=199, a_time=269\n",
            "Video para scaloni:31, ayudante:92, s_time=230, a_time=322\n",
            "Video para scaloni:16, ayudante:45, s_time=246, a_time=291\n",
            "Video para scaloni:34, ayudante:93, s_time=280, a_time=373\n",
            "Video para scaloni:34, ayudante:89, s_time=314, a_time=403\n",
            "Video para scaloni:17, ayudante:42, s_time=331, a_time=373\n",
            "Video para scaloni:25, ayudante:61, s_time=356, a_time=417\n",
            "Video para scaloni:16, ayudante:37, s_time=372, a_time=409\n",
            "Video para scaloni:35, ayudante:80, s_time=407, a_time=487\n",
            "Video para scaloni:44, ayudante:97, s_time=451, a_time=548\n",
            "Video para scaloni:32, ayudante:70, s_time=483, a_time=553\n",
            "Video para scaloni:42, ayudante:90, s_time=525, a_time=615\n",
            "Video para scaloni:15, ayudante:31, s_time=540, a_time=571\n",
            "Video para scaloni:35, ayudante:72, s_time=575, a_time=647\n",
            "Video para scaloni:41, ayudante:83, s_time=616, a_time=699\n",
            "Video para scaloni:23, ayudante:45, s_time=639, a_time=684\n",
            "Video para scaloni:37, ayudante:72, s_time=676, a_time=748\n",
            "Video para scaloni:44, ayudante:82, s_time=720, a_time=802\n",
            "Video para scaloni:29, ayudante:53, s_time=749, a_time=802\n",
            "Video para scaloni:43, ayudante:78, s_time=792, a_time=870\n",
            "Video para scaloni:26, ayudante:47, s_time=818, a_time=865\n",
            "Video para scaloni:44, ayudante:76, s_time=862, a_time=938\n",
            "Video para scaloni:57, ayudante:95, s_time=919, a_time=1014\n",
            "Video para scaloni:66, ayudante:100, s_time=985, a_time=1085\n",
            "Video para scaloni:41, ayudante:60, s_time=1026, a_time=1086\n",
            "Video para scaloni:54, ayudante:79, s_time=1080, a_time=1159\n",
            "Video para scaloni:57, ayudante:83, s_time=1137, a_time=1220\n",
            "Video para scaloni:69, ayudante:99, s_time=1206, a_time=1305\n",
            "Video para scaloni:63, ayudante:90, s_time=1269, a_time=1359\n",
            "Video para scaloni:41, ayudante:57, s_time=1310, a_time=1367\n",
            "Video para scaloni:62, ayudante:79, s_time=1372, a_time=1451\n",
            "Video para scaloni:37, ayudante:47, s_time=1409, a_time=1456\n",
            "Video para scaloni:17, ayudante:21, s_time=1426, a_time=1447\n",
            "Video para scaloni:50, ayudante:61, s_time=1476, a_time=1537\n",
            "Video para scaloni:16, ayudante:19, s_time=1492, a_time=1511\n",
            "Video para scaloni:51, ayudante:60, s_time=1543, a_time=1603\n",
            "Video para scaloni:62, ayudante:72, s_time=1605, a_time=1677\n",
            "Video para scaloni:64, ayudante:73, s_time=1669, a_time=1742\n",
            "Video para scaloni:38, ayudante:43, s_time=1707, a_time=1750\n",
            "Video para scaloni:58, ayudante:65, s_time=1765, a_time=1830\n",
            "Video para scaloni:36, ayudante:37, s_time=1801, a_time=1838\n",
            "Video para scaloni:82, ayudante:83, s_time=1883, a_time=1966\n",
            "Video para scaloni:20, ayudante:20, s_time=1903, a_time=1923\n",
            "Video para scaloni:61, ayudante:59, s_time=1964, a_time=2023\n",
            "Video para scaloni:53, ayudante:51, s_time=2017, a_time=2068\n",
            "Video para scaloni:56, ayudante:52, s_time=2073, a_time=2125\n",
            "Video para scaloni:99, ayudante:91, s_time=2172, a_time=2263\n",
            "Video para scaloni:99, ayudante:86, s_time=2271, a_time=2357\n",
            "Video para scaloni:78, ayudante:66, s_time=2349, a_time=2415\n",
            "Video para scaloni:47, ayudante:39, s_time=2396, a_time=2435\n",
            "Video para scaloni:86, ayudante:70, s_time=2482, a_time=2552\n",
            "Video para scaloni:51, ayudante:40, s_time=2533, a_time=2573\n",
            "Video para scaloni:70, ayudante:54, s_time=2603, a_time=2657\n",
            "Video para scaloni:78, ayudante:60, s_time=2681, a_time=2741\n",
            "Video para scaloni:85, ayudante:61, s_time=2766, a_time=2827\n",
            "Video para scaloni:67, ayudante:47, s_time=2833, a_time=2880\n",
            "Video para scaloni:90, ayudante:61, s_time=2923, a_time=2984\n",
            "Video para scaloni:58, ayudante:39, s_time=2981, a_time=3020\n",
            "Video para scaloni:75, ayudante:49, s_time=3056, a_time=3105\n",
            "Video para scaloni:72, ayudante:45, s_time=3128, a_time=3173\n",
            "Video para scaloni:72, ayudante:45, s_time=3200, a_time=3245\n",
            "Video para scaloni:86, ayudante:53, s_time=3286, a_time=3339\n",
            "Video para scaloni:91, ayudante:55, s_time=3377, a_time=3432\n",
            "Video para scaloni:96, ayudante:58, s_time=3473, a_time=3531\n",
            "Video para scaloni:83, ayudante:47, s_time=3556, a_time=3603\n",
            "Video para scaloni:62, ayudante:35, s_time=3618, a_time=3653\n",
            "Video para scaloni:58, ayudante:32, s_time=3676, a_time=3708\n",
            "Video para scaloni:92, ayudante:46, s_time=3768, a_time=3814\n",
            "Video para scaloni:80, ayudante:40, s_time=3848, a_time=3888\n",
            "Video para scaloni:69, ayudante:34, s_time=3917, a_time=3951\n",
            "Video para scaloni:34, ayudante:16, s_time=3951, a_time=3967\n",
            "Video para scaloni:42, ayudante:18, s_time=3993, a_time=4011\n",
            "Video para scaloni:86, ayudante:36, s_time=4079, a_time=4115\n",
            "Video para scaloni:91, ayudante:38, s_time=4170, a_time=4208\n",
            "Video para scaloni:82, ayudante:34, s_time=4252, a_time=4286\n",
            "Video para scaloni:37, ayudante:15, s_time=4289, a_time=4304\n",
            "Video para scaloni:43, ayudante:17, s_time=4332, a_time=4349\n",
            "Video para scaloni:33, ayudante:12, s_time=4365, a_time=4377\n",
            "Video para scaloni:43, ayudante:15, s_time=4408, a_time=4423\n",
            "Video para scaloni:41, ayudante:14, s_time=4449, a_time=4463\n",
            "Video para scaloni:65, ayudante:22, s_time=4514, a_time=4536\n",
            "Video para scaloni:97, ayudante:29, s_time=4611, a_time=4640\n",
            "Video para scaloni:100, ayudante:27, s_time=4711, a_time=4738\n",
            "Video para scaloni:86, ayudante:23, s_time=4797, a_time=4820\n",
            "Video para scaloni:83, ayudante:22, s_time=4880, a_time=4902\n",
            "Video para scaloni:70, ayudante:18, s_time=4950, a_time=4968\n",
            "Video para scaloni:70, ayudante:16, s_time=5020, a_time=5036\n",
            "Video para scaloni:45, ayudante:10, s_time=5065, a_time=5075\n",
            "Video para scaloni:76, ayudante:14, s_time=5141, a_time=5155\n",
            "Video para scaloni:72, ayudante:13, s_time=5213, a_time=5226\n"
          ]
        },
        {
          "output_type": "execute_result",
          "data": {
            "text/plain": [
              "5226"
            ]
          },
          "metadata": {},
          "execution_count": 8
        }
      ]
    },
    {
      "cell_type": "code",
      "source": [
        "debug_scaloni_greedy([10, 20], [100, 200])"
      ],
      "metadata": {
        "colab": {
          "base_uri": "https://localhost:8080/"
        },
        "id": "ZXDKQjSINTE2",
        "outputId": "309de5c4-6852-4469-f6a0-fbcb0168286c"
      },
      "execution_count": 9,
      "outputs": [
        {
          "output_type": "stream",
          "name": "stdout",
          "text": [
            "[(20, 200, 10.0), (10, 100, 10.0)]\n",
            "Video para scaloni:20, ayudante:200, s_time=20, a_time=220\n",
            "Video para scaloni:10, ayudante:100, s_time=30, a_time=130\n"
          ]
        },
        {
          "output_type": "execute_result",
          "data": {
            "text/plain": [
              "220"
            ]
          },
          "metadata": {},
          "execution_count": 9
        }
      ]
    }
  ]
}